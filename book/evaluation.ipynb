{
 "cells": [
  {
   "cell_type": "markdown",
   "id": "2ec8d912-d621-4a75-885e-6cbe1b890007",
   "metadata": {},
   "source": [
    "# Evaluation of Matrix Factorization "
   ]
  },
  {
   "cell_type": "markdown",
   "id": "5e052b66-2aef-47a4-a052-c89a73dc83bc",
   "metadata": {},
   "source": [
    "## Baseline Model"
   ]
  },
  {
   "cell_type": "markdown",
   "id": "42e1d994-f673-4cc1-8979-42b440c88d3d",
   "metadata": {},
   "source": [
    "To acess the relevance of our recommendations we will compare our model to a baseline model. The baseline model will simpoly recommend the 20 most popular artists irregardless of user. The 20 most popular artists are the 20 artists with the most number of total listens. This baseline model does not make personalised recommendations, instead all users receive the same 20 recommendations. This is an extremely simple model that we expect our more advanced regularized matrix factorization model to outperform."
   ]
  },
  {
   "cell_type": "code",
   "execution_count": null,
   "id": "ba088171-4d74-419a-9346-9a0f3d421750",
   "metadata": {},
   "outputs": [],
   "source": [
    "class Baseline():\n",
    "    \"\"\"\n",
    "    Baseline model. Take most popular artist across entire dataset. \n",
    "    \"\"\"\n",
    "    def __init__(self, n_recs):\n",
    "        self.n_recs = n_recs\n",
    "    \n",
    "    def fit(self, item_user):\n",
    "        \"\"\"\n",
    "        Input: item_user, csr matrix of n_items, n_users. Calculate most popular artists.\n",
    "        \"\"\"\n",
    "        print(\"Fitting baseline...\")\n",
    "        plays = item_user.toarray()\n",
    "        total_listens = np.sum(plays, axis = 1) #sum up total artists in this dataset\n",
    "        \n",
    "        #get index of most popular artists\n",
    "        idx = (-total_plays).argsort()[:self.n_recs]\n",
    "        self.idx = idx\n",
    "    \n",
    "    def predict(self, X=None):\n",
    "        #returns index of most popular artists\n",
    "        return self.idx"
   ]
  },
  {
   "cell_type": "code",
   "execution_count": null,
   "id": "4a22c043-a082-4e12-9df1-6c2af8d2de28",
   "metadata": {},
   "outputs": [],
   "source": []
  },
  {
   "cell_type": "code",
   "execution_count": null,
   "id": "d7af5d50-6505-4265-bf0e-fdca88476980",
   "metadata": {},
   "outputs": [],
   "source": []
  },
  {
   "cell_type": "code",
   "execution_count": null,
   "id": "497bfd25-409b-4513-8a9f-14415202161e",
   "metadata": {},
   "outputs": [],
   "source": [
    "model_baseline = Baseline(n_recs = 20)\n",
    "model_baseline.fit(train)"
   ]
  },
  {
   "cell_type": "code",
   "execution_count": null,
   "id": "1e0a2cbc-7b9e-4f88-8183-229f9163ef0f",
   "metadata": {},
   "outputs": [],
   "source": [
    "def baseline():\n",
    "    artist_pop = pd.DataFrame(user_artists.groupby('artistID').weight.sum()).set_axis('listens', axis=1, inplace=False).reset_index()\n",
    "    artist_pop = pd.merge(artist_pop, artists.iloc[:, 0:2], left_on='artistID', right_on='id')\n",
    "    bylistens = artist_pop.sort_values('listens', ascending=False).head(20)"
   ]
  },
  {
   "cell_type": "markdown",
   "id": "b3fbf411-b096-484b-8331-934c3e08ae6b",
   "metadata": {},
   "source": [
    "## Metrics"
   ]
  },
  {
   "cell_type": "markdown",
   "id": "e803f64e-7251-43b2-92df-3dad69b3be26",
   "metadata": {},
   "source": [
    "We will use the following metrics:\n",
    "- Recall\n",
    "- Precision\n",
    "- Coverage"
   ]
  },
  {
   "cell_type": "code",
   "execution_count": null,
   "id": "1910da8b-f285-4111-afe7-94a0bab0a224",
   "metadata": {},
   "outputs": [],
   "source": [
    "from tqdm import tqdm_notebook as tqdm"
   ]
  },
  {
   "cell_type": "code",
   "execution_count": null,
   "id": "7273c10e-4c04-41d7-ac6c-4c7a8f370a12",
   "metadata": {},
   "outputs": [],
   "source": [
    "def evaluate_lightfm(model, original, train, test, user_features=None, item_features=None, n_rec = 20):\n",
    "    \"\"\"\n",
    "    Calculates evaluation metrics (Precision, Recall and Coverage)\n",
    "    \n",
    "    Parameters:\n",
    "    - model: specified model for recommender system\n",
    "    - original: matrix of full interactions\n",
    "    - train: matrix of training set\n",
    "    - test: matrix of test set\n",
    "    - user_features: a matrix of user features built from metadata\n",
    "    - artist_features: a matrix of item features built from metadata\n",
    "    - n_rec: nu,ber of recommendations to be made\n",
    "    \n",
    "    Output:\n",
    "    - coverage: catalog coverage of model specified\n",
    "    - precision: precision of model specified\n",
    "    - recall: recall of model specified\n",
    "    \n",
    "    \n",
    "    \"\"\"\n",
    "    \n",
    "    print(\"Evaluating Model...\")\n",
    "    \n",
    "    print(\"Calculating Coverage...\")\n",
    "    catalog = []\n",
    "    for user in tqdm(range(0, original.shape[0])):\n",
    "        #get scores for this particular user for all items\n",
    "        rec_scores = model.predict(user,np.arange(original.shape[1]),user_features=user_features, item_features=item_features)\n",
    "\n",
    "        #get top k items to recommend\n",
    "        rec_items = (-rec_scores).argsort()[:20]\n",
    "    \n",
    "        #calculate coverage\n",
    "        #coverage calculation\n",
    "        for recs in rec_items:\n",
    "            if recs not in catalog:\n",
    "                catalog.append(recs)\n",
    "            \n",
    "    coverage = len(catalog)/float(original.shape[1])\n",
    "    \n",
    "    print(\"Calculating Recall at k...\")\n",
    "    recall = recall_at_k(model, test, user_features=user_features, item_features=item_features, k = n_rec).mean()\n",
    "\n",
    "    print(\"Calculating Precision at k...\")\n",
    "    precision = precision_at_k(model, test, user_features=user_features, item_features=item_features, k = n_rec).mean()\n",
    "    \n",
    "    return coverage, precision, recall"
   ]
  }
 ],
 "metadata": {
  "kernelspec": {
   "display_name": "Python 3 (ipykernel)",
   "language": "python",
   "name": "python3"
  },
  "language_info": {
   "codemirror_mode": {
    "name": "ipython",
    "version": 3
   },
   "file_extension": ".py",
   "mimetype": "text/x-python",
   "name": "python",
   "nbconvert_exporter": "python",
   "pygments_lexer": "ipython3",
   "version": "3.8.12"
  }
 },
 "nbformat": 4,
 "nbformat_minor": 5
}
