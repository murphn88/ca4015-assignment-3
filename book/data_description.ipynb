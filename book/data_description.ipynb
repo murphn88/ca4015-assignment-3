{
 "cells": [
  {
   "cell_type": "markdown",
   "id": "79ade8c0",
   "metadata": {},
   "source": [
    "# Data Exploration & Pre-Processing"
   ]
  },
  {
   "cell_type": "markdown",
   "id": "8e50d530",
   "metadata": {},
   "source": [
    "Before we begin building a recommender system we must first get a sense of the dataset. The objective of  this chapter is to explore the dataset and to perform any necessary pre-processing of the data. We will use pandas to read in and explore the data. We will sanity check the data, handle inconsistencies and outliers, and make sure the data can be used to build an accurate and reliable recommender system."
   ]
  },
  {
   "cell_type": "markdown",
   "id": "cb080e42",
   "metadata": {},
   "source": [
    "## Imports"
   ]
  },
  {
   "cell_type": "code",
   "execution_count": 1,
   "id": "2dcba0e2",
   "metadata": {},
   "outputs": [],
   "source": [
    "import pandas as pd\n",
    "import numpy as np\n",
    "import matplotlib.pyplot as plt\n",
    "import seaborn as sns\n",
    "from sklearn import preprocessing"
   ]
  },
  {
   "cell_type": "markdown",
   "id": "5f49bfd7",
   "metadata": {},
   "source": [
    "## Read in Data"
   ]
  },
  {
   "cell_type": "code",
   "execution_count": 2,
   "id": "6adeadd7",
   "metadata": {},
   "outputs": [],
   "source": [
    "artists = pd.read_csv('..\\\\data\\\\hetrec2011-lastfm-2k\\\\artists.dat', sep='\\t', encoding='latin-1')\n",
    "tags = pd.read_csv('..\\\\data\\\\hetrec2011-lastfm-2k\\\\tags.dat', sep='\\t', encoding='latin-1')\n",
    "user_artists = pd.read_csv('..\\\\data\\\\hetrec2011-lastfm-2k\\\\user_artists.dat', sep='\\t', encoding='latin-1')\n",
    "user_friends = pd.read_csv('..\\\\data\\\\hetrec2011-lastfm-2k\\\\user_friends.dat', sep='\\t', encoding='latin-1')\n",
    "user_tagged_artists = pd.read_csv('..\\\\data\\\\hetrec2011-lastfm-2k\\\\user_taggedartists.dat', sep='\\t', encoding='latin-1')"
   ]
  },
  {
   "cell_type": "markdown",
   "id": "81054464",
   "metadata": {},
   "source": [
    "## Overview of the DataFrames"
   ]
  },
  {
   "cell_type": "markdown",
   "id": "a2ff06b6",
   "metadata": {},
   "source": [
    "### artists"
   ]
  },
  {
   "cell_type": "markdown",
   "id": "bb541ae6",
   "metadata": {},
   "source": [
    "This dataframe contains information about 17,632 music artists listened to and tagged by the users."
   ]
  },
  {
   "cell_type": "code",
   "execution_count": 3,
   "id": "4b443c69",
   "metadata": {},
   "outputs": [
    {
     "data": {
      "text/html": [
       "<div>\n",
       "<style scoped>\n",
       "    .dataframe tbody tr th:only-of-type {\n",
       "        vertical-align: middle;\n",
       "    }\n",
       "\n",
       "    .dataframe tbody tr th {\n",
       "        vertical-align: top;\n",
       "    }\n",
       "\n",
       "    .dataframe thead th {\n",
       "        text-align: right;\n",
       "    }\n",
       "</style>\n",
       "<table border=\"1\" class=\"dataframe\">\n",
       "  <thead>\n",
       "    <tr style=\"text-align: right;\">\n",
       "      <th></th>\n",
       "      <th>id</th>\n",
       "      <th>name</th>\n",
       "      <th>url</th>\n",
       "      <th>pictureURL</th>\n",
       "    </tr>\n",
       "  </thead>\n",
       "  <tbody>\n",
       "    <tr>\n",
       "      <th>0</th>\n",
       "      <td>1</td>\n",
       "      <td>MALICE MIZER</td>\n",
       "      <td>http://www.last.fm/music/MALICE+MIZER</td>\n",
       "      <td>http://userserve-ak.last.fm/serve/252/10808.jpg</td>\n",
       "    </tr>\n",
       "    <tr>\n",
       "      <th>1</th>\n",
       "      <td>2</td>\n",
       "      <td>Diary of Dreams</td>\n",
       "      <td>http://www.last.fm/music/Diary+of+Dreams</td>\n",
       "      <td>http://userserve-ak.last.fm/serve/252/3052066.jpg</td>\n",
       "    </tr>\n",
       "    <tr>\n",
       "      <th>2</th>\n",
       "      <td>3</td>\n",
       "      <td>Carpathian Forest</td>\n",
       "      <td>http://www.last.fm/music/Carpathian+Forest</td>\n",
       "      <td>http://userserve-ak.last.fm/serve/252/40222717...</td>\n",
       "    </tr>\n",
       "  </tbody>\n",
       "</table>\n",
       "</div>"
      ],
      "text/plain": [
       "   id               name                                         url  \\\n",
       "0   1       MALICE MIZER       http://www.last.fm/music/MALICE+MIZER   \n",
       "1   2    Diary of Dreams    http://www.last.fm/music/Diary+of+Dreams   \n",
       "2   3  Carpathian Forest  http://www.last.fm/music/Carpathian+Forest   \n",
       "\n",
       "                                          pictureURL  \n",
       "0    http://userserve-ak.last.fm/serve/252/10808.jpg  \n",
       "1  http://userserve-ak.last.fm/serve/252/3052066.jpg  \n",
       "2  http://userserve-ak.last.fm/serve/252/40222717...  "
      ]
     },
     "execution_count": 3,
     "metadata": {},
     "output_type": "execute_result"
    }
   ],
   "source": [
    "artists.head(3)"
   ]
  },
  {
   "cell_type": "code",
   "execution_count": 4,
   "id": "8eb5e1a4",
   "metadata": {},
   "outputs": [
    {
     "name": "stdout",
     "output_type": "stream",
     "text": [
      "number of rows: 17632\n"
     ]
    },
    {
     "data": {
      "text/html": [
       "<div>\n",
       "<style scoped>\n",
       "    .dataframe tbody tr th:only-of-type {\n",
       "        vertical-align: middle;\n",
       "    }\n",
       "\n",
       "    .dataframe tbody tr th {\n",
       "        vertical-align: top;\n",
       "    }\n",
       "\n",
       "    .dataframe thead th {\n",
       "        text-align: right;\n",
       "    }\n",
       "</style>\n",
       "<table border=\"1\" class=\"dataframe\">\n",
       "  <thead>\n",
       "    <tr style=\"text-align: right;\">\n",
       "      <th></th>\n",
       "      <th>unique_entries</th>\n",
       "      <th>null_values</th>\n",
       "    </tr>\n",
       "  </thead>\n",
       "  <tbody>\n",
       "    <tr>\n",
       "      <th>id</th>\n",
       "      <td>17632</td>\n",
       "      <td>0</td>\n",
       "    </tr>\n",
       "    <tr>\n",
       "      <th>name</th>\n",
       "      <td>17632</td>\n",
       "      <td>0</td>\n",
       "    </tr>\n",
       "    <tr>\n",
       "      <th>url</th>\n",
       "      <td>17632</td>\n",
       "      <td>0</td>\n",
       "    </tr>\n",
       "    <tr>\n",
       "      <th>pictureURL</th>\n",
       "      <td>17188</td>\n",
       "      <td>444</td>\n",
       "    </tr>\n",
       "  </tbody>\n",
       "</table>\n",
       "</div>"
      ],
      "text/plain": [
       "            unique_entries  null_values\n",
       "id                   17632            0\n",
       "name                 17632            0\n",
       "url                  17632            0\n",
       "pictureURL           17188          444"
      ]
     },
     "execution_count": 4,
     "metadata": {},
     "output_type": "execute_result"
    }
   ],
   "source": [
    "print('number of rows: ' + str(artists.shape[0]))\n",
    "pd.DataFrame([artists.nunique(),artists.isna().sum()], index=['unique_entries','null_values']).T"
   ]
  },
  {
   "cell_type": "markdown",
   "id": "71529eb3",
   "metadata": {},
   "source": [
    "**Delete pcitureURL column**  \n",
    "The column pcitureURL contains links that cannot be accessed, and has no use to us, so we will delete it."
   ]
  },
  {
   "cell_type": "code",
   "execution_count": 5,
   "id": "2672f49f",
   "metadata": {},
   "outputs": [],
   "source": [
    "del artists['pictureURL']"
   ]
  },
  {
   "cell_type": "markdown",
   "id": "afbf5bb9",
   "metadata": {},
   "source": [
    "**Reset ids**  \n",
    "Set id to start from 0 and to be consecutive."
   ]
  },
  {
   "cell_type": "code",
   "execution_count": 6,
   "id": "a9ac78db",
   "metadata": {},
   "outputs": [],
   "source": [
    "artist_id_dict = pd.Series(artists.index.values,index=artists.id).to_dict()\n",
    "artists.id = artists.id.map(artist_id_dict) "
   ]
  },
  {
   "cell_type": "code",
   "execution_count": 7,
   "id": "329f2af2",
   "metadata": {},
   "outputs": [
    {
     "name": "stdout",
     "output_type": "stream",
     "text": [
      "number of rows: 17632\n"
     ]
    },
    {
     "data": {
      "text/html": [
       "<div>\n",
       "<style scoped>\n",
       "    .dataframe tbody tr th:only-of-type {\n",
       "        vertical-align: middle;\n",
       "    }\n",
       "\n",
       "    .dataframe tbody tr th {\n",
       "        vertical-align: top;\n",
       "    }\n",
       "\n",
       "    .dataframe thead th {\n",
       "        text-align: right;\n",
       "    }\n",
       "</style>\n",
       "<table border=\"1\" class=\"dataframe\">\n",
       "  <thead>\n",
       "    <tr style=\"text-align: right;\">\n",
       "      <th></th>\n",
       "      <th>unique_entries</th>\n",
       "      <th>null_values</th>\n",
       "    </tr>\n",
       "  </thead>\n",
       "  <tbody>\n",
       "    <tr>\n",
       "      <th>id</th>\n",
       "      <td>17632</td>\n",
       "      <td>0</td>\n",
       "    </tr>\n",
       "    <tr>\n",
       "      <th>name</th>\n",
       "      <td>17632</td>\n",
       "      <td>0</td>\n",
       "    </tr>\n",
       "    <tr>\n",
       "      <th>url</th>\n",
       "      <td>17632</td>\n",
       "      <td>0</td>\n",
       "    </tr>\n",
       "  </tbody>\n",
       "</table>\n",
       "</div>"
      ],
      "text/plain": [
       "      unique_entries  null_values\n",
       "id             17632            0\n",
       "name           17632            0\n",
       "url            17632            0"
      ]
     },
     "execution_count": 7,
     "metadata": {},
     "output_type": "execute_result"
    }
   ],
   "source": [
    "print('number of rows: ' + str(artists.shape[0]))\n",
    "pd.DataFrame([artists.nunique(),artists.isna().sum()], index=['unique_entries','null_values']).T"
   ]
  },
  {
   "cell_type": "markdown",
   "id": "196b5e53",
   "metadata": {},
   "source": [
    "<!-- The number of unique entries for id, name, and url matches the number of rows (17,632). Thus, each artist has a unique id, name, and url meaning there are no duplicates or null values that need to be addressed. -->"
   ]
  },
  {
   "cell_type": "markdown",
   "id": "bc992f21",
   "metadata": {},
   "source": [
    "### tags"
   ]
  },
  {
   "cell_type": "markdown",
   "id": "9021292c",
   "metadata": {},
   "source": [
    "This dataframe contains the set of all tags available in the dataset. Tags can be informative of the musical genre. "
   ]
  },
  {
   "cell_type": "code",
   "execution_count": 8,
   "id": "9d74117d",
   "metadata": {},
   "outputs": [
    {
     "data": {
      "text/html": [
       "<div>\n",
       "<style scoped>\n",
       "    .dataframe tbody tr th:only-of-type {\n",
       "        vertical-align: middle;\n",
       "    }\n",
       "\n",
       "    .dataframe tbody tr th {\n",
       "        vertical-align: top;\n",
       "    }\n",
       "\n",
       "    .dataframe thead th {\n",
       "        text-align: right;\n",
       "    }\n",
       "</style>\n",
       "<table border=\"1\" class=\"dataframe\">\n",
       "  <thead>\n",
       "    <tr style=\"text-align: right;\">\n",
       "      <th></th>\n",
       "      <th>tagID</th>\n",
       "      <th>tagValue</th>\n",
       "    </tr>\n",
       "  </thead>\n",
       "  <tbody>\n",
       "    <tr>\n",
       "      <th>0</th>\n",
       "      <td>1</td>\n",
       "      <td>metal</td>\n",
       "    </tr>\n",
       "    <tr>\n",
       "      <th>1</th>\n",
       "      <td>2</td>\n",
       "      <td>alternative metal</td>\n",
       "    </tr>\n",
       "    <tr>\n",
       "      <th>2</th>\n",
       "      <td>3</td>\n",
       "      <td>goth rock</td>\n",
       "    </tr>\n",
       "  </tbody>\n",
       "</table>\n",
       "</div>"
      ],
      "text/plain": [
       "   tagID           tagValue\n",
       "0      1              metal\n",
       "1      2  alternative metal\n",
       "2      3          goth rock"
      ]
     },
     "execution_count": 8,
     "metadata": {},
     "output_type": "execute_result"
    }
   ],
   "source": [
    "tags.head(3)"
   ]
  },
  {
   "cell_type": "code",
   "execution_count": 9,
   "id": "649074db",
   "metadata": {},
   "outputs": [
    {
     "name": "stdout",
     "output_type": "stream",
     "text": [
      "number of rows: 11946\n"
     ]
    },
    {
     "data": {
      "text/html": [
       "<div>\n",
       "<style scoped>\n",
       "    .dataframe tbody tr th:only-of-type {\n",
       "        vertical-align: middle;\n",
       "    }\n",
       "\n",
       "    .dataframe tbody tr th {\n",
       "        vertical-align: top;\n",
       "    }\n",
       "\n",
       "    .dataframe thead th {\n",
       "        text-align: right;\n",
       "    }\n",
       "</style>\n",
       "<table border=\"1\" class=\"dataframe\">\n",
       "  <thead>\n",
       "    <tr style=\"text-align: right;\">\n",
       "      <th></th>\n",
       "      <th>unique_entries</th>\n",
       "      <th>null_values</th>\n",
       "    </tr>\n",
       "  </thead>\n",
       "  <tbody>\n",
       "    <tr>\n",
       "      <th>tagID</th>\n",
       "      <td>11946</td>\n",
       "      <td>0</td>\n",
       "    </tr>\n",
       "    <tr>\n",
       "      <th>tagValue</th>\n",
       "      <td>11946</td>\n",
       "      <td>0</td>\n",
       "    </tr>\n",
       "  </tbody>\n",
       "</table>\n",
       "</div>"
      ],
      "text/plain": [
       "          unique_entries  null_values\n",
       "tagID              11946            0\n",
       "tagValue           11946            0"
      ]
     },
     "execution_count": 9,
     "metadata": {},
     "output_type": "execute_result"
    }
   ],
   "source": [
    "print('number of rows: ' + str(tags.shape[0]))\n",
    "pd.DataFrame([tags.nunique(),tags.isna().sum()], index=['unique_entries','null_values']).T"
   ]
  },
  {
   "cell_type": "markdown",
   "id": "39ae594f",
   "metadata": {},
   "source": [
    "**Reset ids**  \n",
    "Similar to artist id, reset tagID to start from 0 and to be consecutive."
   ]
  },
  {
   "cell_type": "code",
   "execution_count": 10,
   "id": "a7a2be30",
   "metadata": {},
   "outputs": [],
   "source": [
    "tags_dict = pd.Series(tags.index.values,index=tags.tagID).to_dict()\n",
    "tags.tagID = tags.tagID.map(tags_dict) "
   ]
  },
  {
   "cell_type": "markdown",
   "id": "a2a97992",
   "metadata": {},
   "source": [
    "<!-- Again, there are no duplicates or null values present. -->"
   ]
  },
  {
   "cell_type": "markdown",
   "id": "4a31c5b7",
   "metadata": {},
   "source": [
    "### user_artists"
   ]
  },
  {
   "cell_type": "markdown",
   "id": "e933d90e",
   "metadata": {},
   "source": [
    "The dataframe contains the artists listened to by each user, as well as a listening count (weight) for each user, artist pair."
   ]
  },
  {
   "cell_type": "code",
   "execution_count": 11,
   "id": "ee6342b0",
   "metadata": {},
   "outputs": [
    {
     "data": {
      "text/html": [
       "<div>\n",
       "<style scoped>\n",
       "    .dataframe tbody tr th:only-of-type {\n",
       "        vertical-align: middle;\n",
       "    }\n",
       "\n",
       "    .dataframe tbody tr th {\n",
       "        vertical-align: top;\n",
       "    }\n",
       "\n",
       "    .dataframe thead th {\n",
       "        text-align: right;\n",
       "    }\n",
       "</style>\n",
       "<table border=\"1\" class=\"dataframe\">\n",
       "  <thead>\n",
       "    <tr style=\"text-align: right;\">\n",
       "      <th></th>\n",
       "      <th>userID</th>\n",
       "      <th>artistID</th>\n",
       "      <th>weight</th>\n",
       "    </tr>\n",
       "  </thead>\n",
       "  <tbody>\n",
       "    <tr>\n",
       "      <th>0</th>\n",
       "      <td>2</td>\n",
       "      <td>51</td>\n",
       "      <td>13883</td>\n",
       "    </tr>\n",
       "    <tr>\n",
       "      <th>1</th>\n",
       "      <td>2</td>\n",
       "      <td>52</td>\n",
       "      <td>11690</td>\n",
       "    </tr>\n",
       "    <tr>\n",
       "      <th>2</th>\n",
       "      <td>2</td>\n",
       "      <td>53</td>\n",
       "      <td>11351</td>\n",
       "    </tr>\n",
       "    <tr>\n",
       "      <th>3</th>\n",
       "      <td>2</td>\n",
       "      <td>54</td>\n",
       "      <td>10300</td>\n",
       "    </tr>\n",
       "    <tr>\n",
       "      <th>4</th>\n",
       "      <td>2</td>\n",
       "      <td>55</td>\n",
       "      <td>8983</td>\n",
       "    </tr>\n",
       "  </tbody>\n",
       "</table>\n",
       "</div>"
      ],
      "text/plain": [
       "   userID  artistID  weight\n",
       "0       2        51   13883\n",
       "1       2        52   11690\n",
       "2       2        53   11351\n",
       "3       2        54   10300\n",
       "4       2        55    8983"
      ]
     },
     "execution_count": 11,
     "metadata": {},
     "output_type": "execute_result"
    }
   ],
   "source": [
    "user_artists.head()"
   ]
  },
  {
   "cell_type": "code",
   "execution_count": 12,
   "id": "fa382b62",
   "metadata": {},
   "outputs": [
    {
     "name": "stdout",
     "output_type": "stream",
     "text": [
      "number of rows: 92834\n"
     ]
    },
    {
     "data": {
      "text/html": [
       "<div>\n",
       "<style scoped>\n",
       "    .dataframe tbody tr th:only-of-type {\n",
       "        vertical-align: middle;\n",
       "    }\n",
       "\n",
       "    .dataframe tbody tr th {\n",
       "        vertical-align: top;\n",
       "    }\n",
       "\n",
       "    .dataframe thead th {\n",
       "        text-align: right;\n",
       "    }\n",
       "</style>\n",
       "<table border=\"1\" class=\"dataframe\">\n",
       "  <thead>\n",
       "    <tr style=\"text-align: right;\">\n",
       "      <th></th>\n",
       "      <th>unique_entries</th>\n",
       "      <th>null_values</th>\n",
       "    </tr>\n",
       "  </thead>\n",
       "  <tbody>\n",
       "    <tr>\n",
       "      <th>userID</th>\n",
       "      <td>1892</td>\n",
       "      <td>0</td>\n",
       "    </tr>\n",
       "    <tr>\n",
       "      <th>artistID</th>\n",
       "      <td>17632</td>\n",
       "      <td>0</td>\n",
       "    </tr>\n",
       "    <tr>\n",
       "      <th>weight</th>\n",
       "      <td>5436</td>\n",
       "      <td>0</td>\n",
       "    </tr>\n",
       "  </tbody>\n",
       "</table>\n",
       "</div>"
      ],
      "text/plain": [
       "          unique_entries  null_values\n",
       "userID              1892            0\n",
       "artistID           17632            0\n",
       "weight              5436            0"
      ]
     },
     "execution_count": 12,
     "metadata": {},
     "output_type": "execute_result"
    }
   ],
   "source": [
    "print('number of rows: ' + str(user_artists.shape[0]))\n",
    "pd.DataFrame([user_artists.nunique(),user_artists.isna().sum()], index=['unique_entries','null_values']).T"
   ]
  },
  {
   "cell_type": "markdown",
   "id": "4884d959",
   "metadata": {},
   "source": [
    "**Reset userID and Map artistID**  \n",
    "Reset userID to start from 0 and to be consecutive.  \n",
    "Replace artistIDs with the corresponding ids in artists."
   ]
  },
  {
   "cell_type": "code",
   "execution_count": 13,
   "id": "754befe6",
   "metadata": {},
   "outputs": [],
   "source": [
    "user_id_dict = pd.Series(range(0,user_artists.userID.nunique()),index=user_artists.userID.unique()).to_dict()\n",
    "user_artists.userID = user_artists.userID.map(user_id_dict) \n",
    "\n",
    "user_artists.artistID = user_artists.artistID.map(artist_id_dict) "
   ]
  },
  {
   "cell_type": "markdown",
   "id": "378494bc",
   "metadata": {},
   "source": [
    "### user_friends"
   ]
  },
  {
   "cell_type": "markdown",
   "id": "0e9d82c7",
   "metadata": {},
   "source": [
    "This dataframe contains the friend relations between users in the dataset."
   ]
  },
  {
   "cell_type": "code",
   "execution_count": 14,
   "id": "bf69fc89",
   "metadata": {
    "scrolled": true
   },
   "outputs": [
    {
     "data": {
      "text/html": [
       "<div>\n",
       "<style scoped>\n",
       "    .dataframe tbody tr th:only-of-type {\n",
       "        vertical-align: middle;\n",
       "    }\n",
       "\n",
       "    .dataframe tbody tr th {\n",
       "        vertical-align: top;\n",
       "    }\n",
       "\n",
       "    .dataframe thead th {\n",
       "        text-align: right;\n",
       "    }\n",
       "</style>\n",
       "<table border=\"1\" class=\"dataframe\">\n",
       "  <thead>\n",
       "    <tr style=\"text-align: right;\">\n",
       "      <th></th>\n",
       "      <th>userID</th>\n",
       "      <th>friendID</th>\n",
       "    </tr>\n",
       "  </thead>\n",
       "  <tbody>\n",
       "    <tr>\n",
       "      <th>0</th>\n",
       "      <td>2</td>\n",
       "      <td>275</td>\n",
       "    </tr>\n",
       "    <tr>\n",
       "      <th>1</th>\n",
       "      <td>2</td>\n",
       "      <td>428</td>\n",
       "    </tr>\n",
       "    <tr>\n",
       "      <th>2</th>\n",
       "      <td>2</td>\n",
       "      <td>515</td>\n",
       "    </tr>\n",
       "  </tbody>\n",
       "</table>\n",
       "</div>"
      ],
      "text/plain": [
       "   userID  friendID\n",
       "0       2       275\n",
       "1       2       428\n",
       "2       2       515"
      ]
     },
     "execution_count": 14,
     "metadata": {},
     "output_type": "execute_result"
    }
   ],
   "source": [
    "user_friends.head(3)"
   ]
  },
  {
   "cell_type": "code",
   "execution_count": 15,
   "id": "4adbafe6",
   "metadata": {},
   "outputs": [
    {
     "name": "stdout",
     "output_type": "stream",
     "text": [
      "number of rows: 25434\n"
     ]
    },
    {
     "data": {
      "text/html": [
       "<div>\n",
       "<style scoped>\n",
       "    .dataframe tbody tr th:only-of-type {\n",
       "        vertical-align: middle;\n",
       "    }\n",
       "\n",
       "    .dataframe tbody tr th {\n",
       "        vertical-align: top;\n",
       "    }\n",
       "\n",
       "    .dataframe thead th {\n",
       "        text-align: right;\n",
       "    }\n",
       "</style>\n",
       "<table border=\"1\" class=\"dataframe\">\n",
       "  <thead>\n",
       "    <tr style=\"text-align: right;\">\n",
       "      <th></th>\n",
       "      <th>unique_entries</th>\n",
       "      <th>null_values</th>\n",
       "    </tr>\n",
       "  </thead>\n",
       "  <tbody>\n",
       "    <tr>\n",
       "      <th>userID</th>\n",
       "      <td>1892</td>\n",
       "      <td>0</td>\n",
       "    </tr>\n",
       "    <tr>\n",
       "      <th>friendID</th>\n",
       "      <td>1892</td>\n",
       "      <td>0</td>\n",
       "    </tr>\n",
       "  </tbody>\n",
       "</table>\n",
       "</div>"
      ],
      "text/plain": [
       "          unique_entries  null_values\n",
       "userID              1892            0\n",
       "friendID            1892            0"
      ]
     },
     "execution_count": 15,
     "metadata": {},
     "output_type": "execute_result"
    }
   ],
   "source": [
    "print('number of rows: ' + str(user_friends.shape[0]))\n",
    "pd.DataFrame([user_friends.nunique(),user_friends.isna().sum()], index=['unique_entries','null_values']).T"
   ]
  },
  {
   "cell_type": "markdown",
   "id": "36628d96",
   "metadata": {},
   "source": [
    "While the dataframe consists of 25,434 rows, it in fact only contains half this amount (12,717) of bi-directional relations, each relation is included twice, an example of which can be seen in the next cell's output."
   ]
  },
  {
   "cell_type": "code",
   "execution_count": 16,
   "id": "19c22ffa",
   "metadata": {},
   "outputs": [
    {
     "data": {
      "text/html": [
       "<div>\n",
       "<style scoped>\n",
       "    .dataframe tbody tr th:only-of-type {\n",
       "        vertical-align: middle;\n",
       "    }\n",
       "\n",
       "    .dataframe tbody tr th {\n",
       "        vertical-align: top;\n",
       "    }\n",
       "\n",
       "    .dataframe thead th {\n",
       "        text-align: right;\n",
       "    }\n",
       "</style>\n",
       "<table border=\"1\" class=\"dataframe\">\n",
       "  <thead>\n",
       "    <tr style=\"text-align: right;\">\n",
       "      <th></th>\n",
       "      <th>userID</th>\n",
       "      <th>friendID</th>\n",
       "    </tr>\n",
       "  </thead>\n",
       "  <tbody>\n",
       "    <tr>\n",
       "      <th>0</th>\n",
       "      <td>2</td>\n",
       "      <td>275</td>\n",
       "    </tr>\n",
       "    <tr>\n",
       "      <th>3837</th>\n",
       "      <td>275</td>\n",
       "      <td>2</td>\n",
       "    </tr>\n",
       "  </tbody>\n",
       "</table>\n",
       "</div>"
      ],
      "text/plain": [
       "      userID  friendID\n",
       "0          2       275\n",
       "3837     275         2"
      ]
     },
     "execution_count": 16,
     "metadata": {},
     "output_type": "execute_result"
    }
   ],
   "source": [
    "user_friends[((user_friends['userID'] == 2) & (user_friends['friendID'] == 275)) | ((user_friends['userID'] == 275) & (user_friends['friendID'] == 2))]"
   ]
  },
  {
   "cell_type": "markdown",
   "id": "d7752e40",
   "metadata": {},
   "source": [
    "**Map userID and friendID**  \n",
    "Replace both userID and friendID so they corresponding with the intended users."
   ]
  },
  {
   "cell_type": "code",
   "execution_count": 17,
   "id": "e3caef88",
   "metadata": {},
   "outputs": [],
   "source": [
    "user_friends.userID = user_friends.userID.map(user_id_dict) \n",
    "user_friends.friendID = user_friends.friendID.map(user_id_dict) "
   ]
  },
  {
   "cell_type": "markdown",
   "id": "bd0dd916",
   "metadata": {},
   "source": [
    "### user_tagged_artists"
   ]
  },
  {
   "cell_type": "markdown",
   "id": "97730902",
   "metadata": {},
   "source": [
    "This dataframe contains the tag assignments of artists provided by each user and the accompanying date of when the tag assignments were done."
   ]
  },
  {
   "cell_type": "code",
   "execution_count": 18,
   "id": "caa89442",
   "metadata": {},
   "outputs": [
    {
     "data": {
      "text/html": [
       "<div>\n",
       "<style scoped>\n",
       "    .dataframe tbody tr th:only-of-type {\n",
       "        vertical-align: middle;\n",
       "    }\n",
       "\n",
       "    .dataframe tbody tr th {\n",
       "        vertical-align: top;\n",
       "    }\n",
       "\n",
       "    .dataframe thead th {\n",
       "        text-align: right;\n",
       "    }\n",
       "</style>\n",
       "<table border=\"1\" class=\"dataframe\">\n",
       "  <thead>\n",
       "    <tr style=\"text-align: right;\">\n",
       "      <th></th>\n",
       "      <th>userID</th>\n",
       "      <th>artistID</th>\n",
       "      <th>tagID</th>\n",
       "      <th>day</th>\n",
       "      <th>month</th>\n",
       "      <th>year</th>\n",
       "    </tr>\n",
       "  </thead>\n",
       "  <tbody>\n",
       "    <tr>\n",
       "      <th>0</th>\n",
       "      <td>2</td>\n",
       "      <td>52</td>\n",
       "      <td>13</td>\n",
       "      <td>1</td>\n",
       "      <td>4</td>\n",
       "      <td>2009</td>\n",
       "    </tr>\n",
       "    <tr>\n",
       "      <th>1</th>\n",
       "      <td>2</td>\n",
       "      <td>52</td>\n",
       "      <td>15</td>\n",
       "      <td>1</td>\n",
       "      <td>4</td>\n",
       "      <td>2009</td>\n",
       "    </tr>\n",
       "    <tr>\n",
       "      <th>2</th>\n",
       "      <td>2</td>\n",
       "      <td>52</td>\n",
       "      <td>18</td>\n",
       "      <td>1</td>\n",
       "      <td>4</td>\n",
       "      <td>2009</td>\n",
       "    </tr>\n",
       "  </tbody>\n",
       "</table>\n",
       "</div>"
      ],
      "text/plain": [
       "   userID  artistID  tagID  day  month  year\n",
       "0       2        52     13    1      4  2009\n",
       "1       2        52     15    1      4  2009\n",
       "2       2        52     18    1      4  2009"
      ]
     },
     "execution_count": 18,
     "metadata": {},
     "output_type": "execute_result"
    }
   ],
   "source": [
    "user_tagged_artists.head(3)"
   ]
  },
  {
   "cell_type": "code",
   "execution_count": 19,
   "id": "e5b98840",
   "metadata": {},
   "outputs": [
    {
     "name": "stdout",
     "output_type": "stream",
     "text": [
      "number of rows: 186479\n"
     ]
    },
    {
     "data": {
      "text/html": [
       "<div>\n",
       "<style scoped>\n",
       "    .dataframe tbody tr th:only-of-type {\n",
       "        vertical-align: middle;\n",
       "    }\n",
       "\n",
       "    .dataframe tbody tr th {\n",
       "        vertical-align: top;\n",
       "    }\n",
       "\n",
       "    .dataframe thead th {\n",
       "        text-align: right;\n",
       "    }\n",
       "</style>\n",
       "<table border=\"1\" class=\"dataframe\">\n",
       "  <thead>\n",
       "    <tr style=\"text-align: right;\">\n",
       "      <th></th>\n",
       "      <th>unique_entries</th>\n",
       "      <th>null_values</th>\n",
       "    </tr>\n",
       "  </thead>\n",
       "  <tbody>\n",
       "    <tr>\n",
       "      <th>userID</th>\n",
       "      <td>1892</td>\n",
       "      <td>0</td>\n",
       "    </tr>\n",
       "    <tr>\n",
       "      <th>artistID</th>\n",
       "      <td>12523</td>\n",
       "      <td>0</td>\n",
       "    </tr>\n",
       "    <tr>\n",
       "      <th>tagID</th>\n",
       "      <td>9749</td>\n",
       "      <td>0</td>\n",
       "    </tr>\n",
       "    <tr>\n",
       "      <th>day</th>\n",
       "      <td>4</td>\n",
       "      <td>0</td>\n",
       "    </tr>\n",
       "    <tr>\n",
       "      <th>month</th>\n",
       "      <td>12</td>\n",
       "      <td>0</td>\n",
       "    </tr>\n",
       "    <tr>\n",
       "      <th>year</th>\n",
       "      <td>10</td>\n",
       "      <td>0</td>\n",
       "    </tr>\n",
       "  </tbody>\n",
       "</table>\n",
       "</div>"
      ],
      "text/plain": [
       "          unique_entries  null_values\n",
       "userID              1892            0\n",
       "artistID           12523            0\n",
       "tagID               9749            0\n",
       "day                    4            0\n",
       "month                 12            0\n",
       "year                  10            0"
      ]
     },
     "execution_count": 19,
     "metadata": {},
     "output_type": "execute_result"
    }
   ],
   "source": [
    "print('number of rows: ' + str(user_tagged_artists.shape[0]))\n",
    "pd.DataFrame([user_tagged_artists.nunique(),user_tagged_artists.isna().sum()], index=['unique_entries','null_values']).T"
   ]
  },
  {
   "cell_type": "markdown",
   "id": "15d0fbe0",
   "metadata": {},
   "source": [
    "Interestingly each user has tagged at least one artist but not all artists have received a tag. The number of unique entries for the day and year seems odd and will be further investigated in the next two cells."
   ]
  },
  {
   "cell_type": "code",
   "execution_count": 20,
   "id": "4d8499ee",
   "metadata": {},
   "outputs": [
    {
     "data": {
      "text/plain": [
       "1    182948\n",
       "5      1505\n",
       "6      1469\n",
       "9       557\n",
       "Name: day, dtype: int64"
      ]
     },
     "execution_count": 20,
     "metadata": {},
     "output_type": "execute_result"
    }
   ],
   "source": [
    "user_tagged_artists.day.value_counts()"
   ]
  },
  {
   "cell_type": "markdown",
   "id": "9346755e",
   "metadata": {},
   "source": [
    "Considering the size of the dataframe it is inprobable that users only ever tagged on the same four days of every month, and is instead likely indicative of the days when the data was collected. Therefore, we will not place any significance on the day in further analysis."
   ]
  },
  {
   "cell_type": "code",
   "execution_count": 21,
   "id": "1c5a4662",
   "metadata": {},
   "outputs": [
    {
     "data": {
      "text/plain": [
       "2010    54998\n",
       "2009    43366\n",
       "2008    40273\n",
       "2007    20415\n",
       "2011    15125\n",
       "2006     9814\n",
       "2005     2483\n",
       "1956        3\n",
       "1957        1\n",
       "1979        1\n",
       "Name: year, dtype: int64"
      ]
     },
     "execution_count": 21,
     "metadata": {},
     "output_type": "execute_result"
    }
   ],
   "source": [
    "user_tagged_artists.year.value_counts()"
   ]
  },
  {
   "cell_type": "markdown",
   "id": "2de59ed5",
   "metadata": {},
   "source": [
    "Last.fm was founded in 2002, and the internet in 1983! Therefore, the 4 dates that correspond to the years 1956, 1957, or 1979 are obvious errors. The dataset was compiled in 2011 so it is conceivable that the data collected was created sometime between 2005 and 2011.  "
   ]
  },
  {
   "cell_type": "markdown",
   "id": "019a4faf",
   "metadata": {},
   "source": [
    "**Replace years before 2005**  \n",
    "Replace any year before 2005 with 2005"
   ]
  },
  {
   "cell_type": "code",
   "execution_count": 22,
   "id": "aa35bcd0",
   "metadata": {},
   "outputs": [],
   "source": [
    "user_tagged_artists.loc[user_tagged_artists['year'] < 2005,'year'] = 2005"
   ]
  },
  {
   "cell_type": "markdown",
   "id": "90427fe8",
   "metadata": {},
   "source": [
    "**Map userID, artistID and tagID**"
   ]
  },
  {
   "cell_type": "code",
   "execution_count": 23,
   "id": "e586d8ea",
   "metadata": {},
   "outputs": [],
   "source": [
    "user_tagged_artists.userID = user_tagged_artists.userID.map(user_id_dict) \n",
    "user_tagged_artists.artistID = user_tagged_artists.artistID.map(artist_id_dict) \n",
    "user_tagged_artists.tagID = user_tagged_artists.tagID.map(tags_dict) "
   ]
  },
  {
   "cell_type": "markdown",
   "id": "163c1eac",
   "metadata": {},
   "source": [
    "## Data Exploration & Visualisations"
   ]
  },
  {
   "cell_type": "markdown",
   "id": "9f2cde5f",
   "metadata": {},
   "source": [
    "### Number of artists listened to by each user"
   ]
  },
  {
   "cell_type": "code",
   "execution_count": 24,
   "id": "f0e7e4f1",
   "metadata": {},
   "outputs": [
    {
     "data": {
      "image/png": "[encoded data removed]",
      "text/plain": [
       "<Figure size 1080x432 with 1 Axes>"
      ]
     },
     "metadata": {
      "needs_background": "light"
     },
     "output_type": "display_data"
    }
   ],
   "source": [
    "user_artists_count = pd.DataFrame([artists_df.shape[0] for user, artists_df in user_artists.groupby('userID')]).value_counts().rename_axis('number_of_artists').reset_index(name='counts')\n",
    "plt.figure(figsize=(15,6))\n",
    "ax = sns.histplot(data=user_artists_count,x='number_of_artists',weights='counts',bins=5)\n",
    "ax.bar_label(ax.containers[0],c='r')\n",
    "ax.set(title='Number of Artists Listened to by Users')\n",
    "plt.show()"
   ]
  },
  {
   "cell_type": "markdown",
   "id": "77e2aee4",
   "metadata": {},
   "source": [
    "This plot is left skewed, with the vast majority of users having listened to 40-50 unique artists. Only 51 users, or 2.7% of users, have listened to fewer than 40 artists. This is reassuring as we are planning to use this dataset to build a recommender system. The more artists listened to by each user the better the recommender system should perform as the system will be better able to determine users' musical interests and tastes."
   ]
  },
  {
   "cell_type": "markdown",
   "id": "41ad1669-0c72-4b2f-af87-bcb3129400ff",
   "metadata": {},
   "source": [
    "### Number of listeners per artist"
   ]
  },
  {
   "cell_type": "code",
   "execution_count": 25,
   "id": "6f3c781a-6d98-4674-a436-54db45c56c1a",
   "metadata": {},
   "outputs": [
    {
     "data": {
      "image/png": "[encoded data removed]",
      "text/plain": [
       "<Figure size 1080x432 with 1 Axes>"
      ]
     },
     "metadata": {
      "needs_background": "light"
     },
     "output_type": "display_data"
    }
   ],
   "source": [
    "listeners_count = user_artists.groupby('artistID').size().reset_index(name='number_of_listeners')\n",
    "plt.figure(figsize=(15,6))\n",
    "ax = sns.histplot(data=listeners_count,x='number_of_listeners',bins=10)\n",
    "ax.bar_label(ax.containers[0],c='r')\n",
    "ax.set(title='Number of Listeners per Artist')\n",
    "plt.show()"
   ]
  },
  {
   "cell_type": "code",
   "execution_count": 26,
   "id": "a1506329-d480-452f-9e2b-6efbf6c5538c",
   "metadata": {},
   "outputs": [
    {
     "data": {
      "text/plain": [
       "count    17632.000000\n",
       "mean         5.265086\n",
       "std         20.620315\n",
       "min          1.000000\n",
       "25%          1.000000\n",
       "50%          1.000000\n",
       "75%          3.000000\n",
       "max        611.000000\n",
       "Name: number_of_listeners, dtype: float64"
      ]
     },
     "execution_count": 26,
     "metadata": {},
     "output_type": "execute_result"
    }
   ],
   "source": [
    "listeners_count.number_of_listeners.describe()"
   ]
  },
  {
   "cell_type": "markdown",
   "id": "6c542343-28c0-417e-88ec-32aacd709be3",
   "metadata": {},
   "source": [
    "This right skewed plot is not ideal. It is common practice for recommender systems to disgard items (in this case artists) with few iterations. However, 50% of artists in this dataset have only been listened to by a single user. If we were to exclude artists with less than a certain number of interactions we lose the majority of the dataset so we will work with what we have."
   ]
  },
  {
   "cell_type": "markdown",
   "id": "f7001a32",
   "metadata": {},
   "source": [
    "### Weight for each user/artist pair"
   ]
  },
  {
   "cell_type": "code",
   "execution_count": 27,
   "id": "5aed5fd6",
   "metadata": {},
   "outputs": [
    {
     "data": {
      "text/plain": [
       "count     92834.00000\n",
       "mean        745.24393\n",
       "std        3751.32208\n",
       "min           1.00000\n",
       "25%         107.00000\n",
       "50%         260.00000\n",
       "75%         614.00000\n",
       "max      352698.00000\n",
       "Name: weight, dtype: float64"
      ]
     },
     "execution_count": 27,
     "metadata": {},
     "output_type": "execute_result"
    }
   ],
   "source": [
    "user_artists.weight.describe()"
   ]
  },
  {
   "cell_type": "code",
   "execution_count": 28,
   "id": "a1d0908b",
   "metadata": {},
   "outputs": [
    {
     "data": {
      "image/png": "[encoded data removed]",
      "text/plain": [
       "<Figure size 432x288 with 1 Axes>"
      ]
     },
     "metadata": {},
     "output_type": "display_data"
    }
   ],
   "source": [
    "sns.set_style('darkgrid')\n",
    "sns.boxplot(x =user_artists.weight)\n",
    "plt.show()"
   ]
  },
  {
   "cell_type": "markdown",
   "id": "3674c93f",
   "metadata": {},
   "source": [
    "The distribution is extremely left skewed. 75% of weights are less than 614, yet the max weight is 352,698. There are extreme outliers. We believe the dataset contains data from 2005-2011. For a user to have listened to a certain artist 352,698 times over that peroiod they would have had to listen to that artist roughly 1,600 times every day. It is unlikey that these extreme outliers are extreme music lovers and is instead more conceivable that there are errors in the data."
   ]
  },
  {
   "cell_type": "markdown",
   "id": "b0d6c765",
   "metadata": {},
   "source": [
    "#### Determine cut-off for allowable weight values\n",
    "To determine the maximum weight allowed, we will group users by weight bin (0-500, 500-1000, 1000-1500 ...). The logic we will apply will assume that if you have listened to one artist betweeen 500-1000 times then you've probably listened to other artists between 0-500 times. If you are a big music listener and have listened to your absolute favourite artist 2000+ times, then you have probably listened to another of your favourite artists between 1500-2000 times.\n",
    "\n",
    "We will calculate the percentage of users in each bin which were also in the previous bin. E.g. what percentage of users who have at least one weight between 3000 and 3500, also have at least one weight between 2500 and 3000?"
   ]
  },
  {
   "cell_type": "code",
   "execution_count": 29,
   "id": "f0d1db8a",
   "metadata": {},
   "outputs": [],
   "source": [
    "pc_users_in_both = []\n",
    "incrs = list(range(50,len(user_artists.weight),500))\n",
    "users_below = set()\n",
    "for inc in incrs:\n",
    "    users_in_inc = set(user_artists[(user_artists.weight > inc) & (user_artists.weight < (inc + 500))].userID)\n",
    "    users_in_both = users_below.intersection(users_in_inc)\n",
    "    if len(users_below) > 0:\n",
    "        pc_users = len(users_in_both) / len(users_below) * 100\n",
    "        pc_users_in_both.append(pc_users)\n",
    "    else:\n",
    "        pc_users_in_both.append(0)\n",
    "    users_below = users_in_inc"
   ]
  },
  {
   "cell_type": "code",
   "execution_count": 30,
   "id": "cc750ced",
   "metadata": {},
   "outputs": [
    {
     "data": {
      "image/png": "[encoded data removed]",
      "text/plain": [
       "<Figure size 864x288 with 2 Axes>"
      ]
     },
     "metadata": {},
     "output_type": "display_data"
    }
   ],
   "source": [
    "sns.set_style('darkgrid')\n",
    "sns.set(font_scale = 1)\n",
    "fig, ax = plt.subplots(nrows=1, ncols=2, figsize=(12, 4))\n",
    "sns.lineplot(x=incrs, y=pc_users_in_both, ax=ax[0]).set_title('% of users in bin also in lower bin')\n",
    "ax[0].set(xlabel='start of bin', ylabel='percentage of users also in directly lower bin',xlim=[500,80000])\n",
    "sns.lineplot(x=incrs, y=pc_users_in_both, ax=ax[1]).set_title('% of users in bin also in lower bin (zoomed in)')\n",
    "ax[1].set(xlabel='start of bin', ylabel='percentage of users also in directly lower bin',xlim=[500,10000])\n",
    "plt.show()"
   ]
  },
  {
   "cell_type": "markdown",
   "id": "cc55b141",
   "metadata": {},
   "source": [
    "As expected the percentage of users in a bin and in the consecutive bin initially steadily decreases, as most users reach their max weight. However, the plot quick starts to fluctuate. To decide on the max allowable weight, we will focus on the right zoomed in graph. Up utill around 3,500 the graph is almost linear. Therefore, we will set the max allowable weight to the 3,500. It is possible that we will lose some super fans through this process but it is better than having errors in the data. For all weights above 3,500 we will set them to the user's median weight if it is below 3,500, otherwise it will be set to the median weight of all users' weights."
   ]
  },
  {
   "cell_type": "code",
   "execution_count": 31,
   "id": "8658c192",
   "metadata": {},
   "outputs": [],
   "source": [
    "users_to_be_updated = user_artists.userID[user_artists['weight'] > 3500].unique()\n",
    "users_artists_below_thres = user_artists[user_artists['weight'] < 3500]\n",
    "user_new_weights_dict = round(users_artists_below_thres[users_artists_below_thres.userID.isin(list(users_to_be_updated))].groupby('userID').weight.median()).to_dict()\n",
    "for index, row in user_artists.iterrows():\n",
    "    if row.weight > 3500:\n",
    "        try:\n",
    "            row.weight = user_new_weights_dict[row.userID]\n",
    "        except:\n",
    "            artist_median = user_artists[user_artists['artistID'] == row.artistID].weight.median()\n",
    "            if artist_median < 3500:\n",
    "                row.weight = user_artists[user_artists['artistID'] == row.artistID].weight.median()\n",
    "            else:\n",
    "                row.weight = user_artists.weight.median()"
   ]
  },
  {
   "cell_type": "code",
   "execution_count": 32,
   "id": "3f8e32e7",
   "metadata": {},
   "outputs": [
    {
     "data": {
      "image/png": "[encoded data removed]",
      "text/plain": [
       "<Figure size 432x288 with 1 Axes>"
      ]
     },
     "metadata": {},
     "output_type": "display_data"
    }
   ],
   "source": [
    "sns.boxplot(x=user_artists.weight).set_title('Boxplot of weights after setting cut-off')\n",
    "plt.show()"
   ]
  },
  {
   "cell_type": "markdown",
   "id": "7fd0adc0",
   "metadata": {},
   "source": [
    "#### Scale the weights between 1-5"
   ]
  },
  {
   "cell_type": "code",
   "execution_count": 33,
   "id": "bcf6b0a9",
   "metadata": {},
   "outputs": [],
   "source": [
    "min_weight = min(user_artists.weight)\n",
    "max_weight = max(user_artists.weight)\n",
    "for i in range(0,len(user_artists)):\n",
    "    user_artists.weight.iloc[i] = np.interp(user_artists.weight.iloc[i],[min_weight,max_weight],[1,5])"
   ]
  },
  {
   "cell_type": "code",
   "execution_count": 34,
   "id": "1b26e055",
   "metadata": {},
   "outputs": [
    {
     "data": {
      "text/html": [
       "<div>\n",
       "<style scoped>\n",
       "    .dataframe tbody tr th:only-of-type {\n",
       "        vertical-align: middle;\n",
       "    }\n",
       "\n",
       "    .dataframe tbody tr th {\n",
       "        vertical-align: top;\n",
       "    }\n",
       "\n",
       "    .dataframe thead th {\n",
       "        text-align: right;\n",
       "    }\n",
       "</style>\n",
       "<table border=\"1\" class=\"dataframe\">\n",
       "  <thead>\n",
       "    <tr style=\"text-align: right;\">\n",
       "      <th></th>\n",
       "      <th>userID</th>\n",
       "      <th>artistID</th>\n",
       "      <th>weight</th>\n",
       "    </tr>\n",
       "  </thead>\n",
       "  <tbody>\n",
       "    <tr>\n",
       "      <th>count</th>\n",
       "      <td>92834.000000</td>\n",
       "      <td>92834.000000</td>\n",
       "      <td>92834.000000</td>\n",
       "    </tr>\n",
       "    <tr>\n",
       "      <th>mean</th>\n",
       "      <td>944.222483</td>\n",
       "      <td>3235.736724</td>\n",
       "      <td>1.536476</td>\n",
       "    </tr>\n",
       "    <tr>\n",
       "      <th>std</th>\n",
       "      <td>546.751074</td>\n",
       "      <td>4197.216910</td>\n",
       "      <td>0.664117</td>\n",
       "    </tr>\n",
       "    <tr>\n",
       "      <th>min</th>\n",
       "      <td>0.000000</td>\n",
       "      <td>0.000000</td>\n",
       "      <td>1.000000</td>\n",
       "    </tr>\n",
       "    <tr>\n",
       "      <th>25%</th>\n",
       "      <td>470.000000</td>\n",
       "      <td>430.000000</td>\n",
       "      <td>1.120034</td>\n",
       "    </tr>\n",
       "    <tr>\n",
       "      <th>50%</th>\n",
       "      <td>944.000000</td>\n",
       "      <td>1237.000000</td>\n",
       "      <td>1.291512</td>\n",
       "    </tr>\n",
       "    <tr>\n",
       "      <th>75%</th>\n",
       "      <td>1416.000000</td>\n",
       "      <td>4266.000000</td>\n",
       "      <td>1.667619</td>\n",
       "    </tr>\n",
       "    <tr>\n",
       "      <th>max</th>\n",
       "      <td>1891.000000</td>\n",
       "      <td>17631.000000</td>\n",
       "      <td>5.000000</td>\n",
       "    </tr>\n",
       "  </tbody>\n",
       "</table>\n",
       "</div>"
      ],
      "text/plain": [
       "             userID      artistID        weight\n",
       "count  92834.000000  92834.000000  92834.000000\n",
       "mean     944.222483   3235.736724      1.536476\n",
       "std      546.751074   4197.216910      0.664117\n",
       "min        0.000000      0.000000      1.000000\n",
       "25%      470.000000    430.000000      1.120034\n",
       "50%      944.000000   1237.000000      1.291512\n",
       "75%     1416.000000   4266.000000      1.667619\n",
       "max     1891.000000  17631.000000      5.000000"
      ]
     },
     "execution_count": 34,
     "metadata": {},
     "output_type": "execute_result"
    }
   ],
   "source": [
    "user_artists.describe()"
   ]
  },
  {
   "cell_type": "markdown",
   "id": "d1be96c6",
   "metadata": {},
   "source": [
    "### Most popular artists"
   ]
  },
  {
   "cell_type": "markdown",
   "id": "f321ab2e-c6a4-493d-9555-e276d69bf375",
   "metadata": {},
   "source": [
    "To find the most popular artists we will use two approaches. The first will sum all listens per artist and the second will perform a count of unique listeners per artist."
   ]
  },
  {
   "cell_type": "code",
   "execution_count": 35,
   "id": "e9ad6a7e",
   "metadata": {},
   "outputs": [],
   "source": [
    "artist_pop = pd.concat([pd.DataFrame(user_artists.groupby('artistID').size()), pd.DataFrame(user_artists.groupby('artistID').weight.sum())],axis=1).set_axis(['listeners', 'listens'], axis=1, inplace=False).reset_index()\n",
    "artist_pop = pd.merge(artist_pop, artists.iloc[:, 0:2], left_on='artistID', right_on='id')\n",
    "bylistens = artist_pop.sort_values('listens', ascending=False).head(10)\n",
    "bylisteners = artist_pop.sort_values('listeners', ascending=False).head(10)"
   ]
  },
  {
   "cell_type": "code",
   "execution_count": 36,
   "id": "7271cfbe",
   "metadata": {},
   "outputs": [
    {
     "data": {
      "image/png": "[encoded data removed]",
      "text/plain": [
       "<Figure size 864x288 with 2 Axes>"
      ]
     },
     "metadata": {},
     "output_type": "display_data"
    }
   ],
   "source": [
    "fig, ax = plt.subplots(nrows=1, ncols=2, figsize=(12, 4))\n",
    "fig.tight_layout()\n",
    "sns.barplot(x=bylistens.listens, y=bylistens.name,palette=\"crest_r\",ax=ax[0])\n",
    "ax[0].set(xlabel='listens', ylabel='artist', title='most popular artists by number of LISTENS')\n",
    "ax = sns.barplot(x=bylisteners.listeners, y=bylisteners.name,palette=\"rocket\",ax=ax[1])\n",
    "ax.set(xlabel='listeners', ylabel='artist', title='most popular artists by number of LISTENERS')\n",
    "plt.subplots_adjust(wspace = 0.5)\n",
    "plt.show()"
   ]
  },
  {
   "cell_type": "markdown",
   "id": "80de0116",
   "metadata": {},
   "source": [
    "Lady Gaga appears as the top artist in both, this is reflective of listening tastes for the time period that the data was collected. While there are some differences between the two charts, on the whole popular artists have the most listens and listeners."
   ]
  },
  {
   "cell_type": "markdown",
   "id": "f8572945",
   "metadata": {},
   "source": [
    "### Most popular tags"
   ]
  },
  {
   "cell_type": "markdown",
   "id": "51c72fb1-b7bf-4769-b796-c630f5428cda",
   "metadata": {},
   "source": [
    "**Remove special characters**  \n",
    "Special characters are causing almost identical tags to be counted as two different tags. This is an issue for tags such as 80's and 80s. To combat this we will remove all special characters."
   ]
  },
  {
   "cell_type": "code",
   "execution_count": 37,
   "id": "059540ba-c0c3-4edb-b048-f6e5a5ec6e5f",
   "metadata": {},
   "outputs": [],
   "source": [
    "tag_dict = pd.Series(tags.tagValue,index=tags.tagID).to_dict()\n",
    "user_tagged_artists_tag = user_tagged_artists.copy()\n",
    "user_tagged_artists_tag['tag'] = user_tagged_artists_tag.tagID.map(tag_dict)\n",
    "user_tagged_artists_tag.tag = user_tagged_artists_tag.tag.apply(lambda x: ''.join(char for char in x if char.isalnum()))"
   ]
  },
  {
   "cell_type": "markdown",
   "id": "bd2cf43a-2cec-4a56-a6b8-40a2dae5174c",
   "metadata": {},
   "source": [
    "**Group on tag**"
   ]
  },
  {
   "cell_type": "code",
   "execution_count": 38,
   "id": "12c8803d-4a2f-48e9-9672-fd6d4c04c54e",
   "metadata": {},
   "outputs": [],
   "source": [
    "tags_ranked = user_tagged_artists_tag.groupby('tag').size().reset_index(name='counts').sort_values('counts',ascending=False)"
   ]
  },
  {
   "cell_type": "code",
   "execution_count": 39,
   "id": "4cc45b37",
   "metadata": {},
   "outputs": [
    {
     "data": {
      "image/png": "[encoded data removed]",
      "text/plain": [
       "<Figure size 432x288 with 1 Axes>"
      ]
     },
     "metadata": {},
     "output_type": "display_data"
    }
   ],
   "source": [
    "ax = sns.barplot(x=tags_ranked.head(10).counts, y=tags_ranked.head(10).tag,palette=\"Greens_r\")\n",
    "ax.set(xlabel='count of tag usage', ylabel='tag',title='most used tags')\n",
    "plt.show()"
   ]
  },
  {
   "cell_type": "markdown",
   "id": "6f668f39-a856-4aa1-8c31-bcdd4a6aecec",
   "metadata": {},
   "source": [
    "No big surprises here."
   ]
  },
  {
   "cell_type": "markdown",
   "id": "2fb1d3bc-e3ae-4114-9423-4479efa740f1",
   "metadata": {},
   "source": [
    "### Can tags be used as genres?"
   ]
  },
  {
   "cell_type": "markdown",
   "id": "c0f69fef-b5e7-42e4-bca1-8eec8d1b4730",
   "metadata": {},
   "source": [
    "From looking at the top tags it appears that they could be used as item features representing artist genres. I want to determine how common the top 20 tags are. For each artist tagged, I will check if at least one of their tags is also in the top 20 overall tags."
   ]
  },
  {
   "cell_type": "code",
   "execution_count": 40,
   "id": "7d47d9f7-dfb5-4448-9eed-0a37e7039c30",
   "metadata": {},
   "outputs": [
    {
     "name": "stdout",
     "output_type": "stream",
     "text": [
      "Percentage of tagged artists with a tag in top 20 tags: 63%\n"
     ]
    }
   ],
   "source": [
    "top20tags = set(tags_ranked.head(20).tag.values)\n",
    "# artist_tag = user_tagged_artists.copy()\n",
    "# artist_tag['tagValue'] = artist_tag.tagID.map(tag_dict)\n",
    "artist_tagSet = user_tagged_artists_tag.groupby('artistID').tag.agg(lambda x:set(x.unique())).reset_index(name='tagSet')\n",
    "artists_with_top_tag = 0\n",
    "for index,row in artist_tagSet.iterrows():\n",
    "    inters = top20tags.intersection(row.tagSet)\n",
    "    if len(inters) > 0:\n",
    "        artists_with_top_tag += 1\n",
    "pc_artists = round(artists_with_top_tag/artist_tagSet.shape[0] * 100)\n",
    "print('Percentage of tagged artists with a tag in top 20 tags: ' + str(pc_artists) + '%')"
   ]
  },
  {
   "cell_type": "markdown",
   "id": "e2ef781d-a731-471b-863b-62508993acae",
   "metadata": {},
   "source": [
    "We can make an assumption about the primary genre of 63% of tagged artists using this approach. However, as not all artist are tagged, this would actually only cover approximately 46% of all artists. Nevertheless, there are too many unique tags to one-hot-encode all of the tags, so we will procede with the top 20 tags.\n",
    "\n",
    "**Approach**:\n",
    "- compute set of 20 most used tags: top20tags (done)\n",
    "\n",
    "For each artist:\n",
    "- Collect set of all tags: artist_tagSet\n",
    "- Find intersection of artist_tagSet and top20tags\n",
    "- If no mutual tags, leave artist tag as no_tag\n",
    "- Else if only one mutual tag, set artist tag as mutual tag\n",
    "- Else, from the set of mutual tags, find the most tag for that artist"
   ]
  },
  {
   "cell_type": "code",
   "execution_count": 41,
   "id": "41d9fd9c-405c-4064-8016-c3c0f9940c80",
   "metadata": {},
   "outputs": [
    {
     "data": {
      "text/plain": [
       "{'80s',\n",
       " '90s',\n",
       " 'alternative',\n",
       " 'alternativerock',\n",
       " 'ambient',\n",
       " 'british',\n",
       " 'classicrock',\n",
       " 'dance',\n",
       " 'electronic',\n",
       " 'experimental',\n",
       " 'femalevocalists',\n",
       " 'hardrock',\n",
       " 'hiphop',\n",
       " 'indie',\n",
       " 'indierock',\n",
       " 'metal',\n",
       " 'newwave',\n",
       " 'pop',\n",
       " 'rock',\n",
       " 'singersongwriter'}"
      ]
     },
     "execution_count": 41,
     "metadata": {},
     "output_type": "execute_result"
    }
   ],
   "source": [
    "top20tags"
   ]
  },
  {
   "cell_type": "code",
   "execution_count": 42,
   "id": "34bfc634-b84a-49be-aa56-786472f47200",
   "metadata": {},
   "outputs": [
    {
     "name": "stderr",
     "output_type": "stream",
     "text": [
      "C:\\Users\\User\\AppData\\Local\\Temp/ipykernel_3016/3829306717.py:7: UserWarning: Boolean Series key will be reindexed to match DataFrame index.\n",
      "  tag_list[index] = user_tagged_artists_tag[user_tagged_artists_tag.artistID == row.artistID][user_tagged_artists_tag.tag.isin(inters)].groupby('tag').tag.count().reset_index(name='counts').sort_values('counts',ascending=False).tag[0]\n"
     ]
    }
   ],
   "source": [
    "tag_list = pd.Series(['no_tag'] * artist_tagSet.shape[0])\n",
    "for index,row in artist_tagSet.iterrows():\n",
    "    inters = top20tags.intersection(row.tagSet)\n",
    "    if len(inters) == 1:\n",
    "        tag_list[index] = str(''.join(inters))\n",
    "    elif len(inters) > 1:\n",
    "        tag_list[index] = user_tagged_artists_tag[user_tagged_artists_tag.artistID == row.artistID][user_tagged_artists_tag.tag.isin(inters)].groupby('tag').tag.count().reset_index(name='counts').sort_values('counts',ascending=False).tag[0]\n",
    "artist_tagSet['tag'] = tag_list"
   ]
  },
  {
   "cell_type": "code",
   "execution_count": 43,
   "id": "20f8b9fb-b51e-4d3e-9f78-6e6f768629bf",
   "metadata": {},
   "outputs": [
    {
     "data": {
      "text/html": [
       "<div>\n",
       "<style scoped>\n",
       "    .dataframe tbody tr th:only-of-type {\n",
       "        vertical-align: middle;\n",
       "    }\n",
       "\n",
       "    .dataframe tbody tr th {\n",
       "        vertical-align: top;\n",
       "    }\n",
       "\n",
       "    .dataframe thead th {\n",
       "        text-align: right;\n",
       "    }\n",
       "</style>\n",
       "<table border=\"1\" class=\"dataframe\">\n",
       "  <thead>\n",
       "    <tr style=\"text-align: right;\">\n",
       "      <th></th>\n",
       "      <th>artistID</th>\n",
       "      <th>tagSet</th>\n",
       "      <th>tag</th>\n",
       "    </tr>\n",
       "  </thead>\n",
       "  <tbody>\n",
       "    <tr>\n",
       "      <th>0</th>\n",
       "      <td>0.0</td>\n",
       "      <td>{weeabo, jrock, japanese, gothic, betterthanla...</td>\n",
       "      <td>no_tag</td>\n",
       "    </tr>\n",
       "    <tr>\n",
       "      <th>1</th>\n",
       "      <td>1.0</td>\n",
       "      <td>{truegothemo, seenlive, german, gothicrock, vo...</td>\n",
       "      <td>ambient</td>\n",
       "    </tr>\n",
       "    <tr>\n",
       "      <th>2</th>\n",
       "      <td>2.0</td>\n",
       "      <td>{blackmetal, norwegianblackmetal, saxophones, ...</td>\n",
       "      <td>no_tag</td>\n",
       "    </tr>\n",
       "  </tbody>\n",
       "</table>\n",
       "</div>"
      ],
      "text/plain": [
       "   artistID                                             tagSet      tag\n",
       "0       0.0  {weeabo, jrock, japanese, gothic, betterthanla...   no_tag\n",
       "1       1.0  {truegothemo, seenlive, german, gothicrock, vo...  ambient\n",
       "2       2.0  {blackmetal, norwegianblackmetal, saxophones, ...   no_tag"
      ]
     },
     "execution_count": 43,
     "metadata": {},
     "output_type": "execute_result"
    }
   ],
   "source": [
    "artist_tagSet.head(3)"
   ]
  },
  {
   "cell_type": "markdown",
   "id": "7a4eebb4-6d88-4a95-860f-54a8fa00a5eb",
   "metadata": {},
   "source": [
    "**One-Hot Encoding**"
   ]
  },
  {
   "cell_type": "code",
   "execution_count": 44,
   "id": "cd1ee9c4-450a-408b-9d12-018e5354f746",
   "metadata": {},
   "outputs": [],
   "source": [
    "genres =  pd.get_dummies(artist_tagSet['tag'])"
   ]
  },
  {
   "cell_type": "code",
   "execution_count": 45,
   "id": "f3bcf794-9144-4e6e-baf9-5f28c6c21e94",
   "metadata": {},
   "outputs": [],
   "source": [
    "artist_features = pd.concat([artists, genres], axis=1).fillna(0)\n",
    "del artist_features['url']"
   ]
  },
  {
   "cell_type": "code",
   "execution_count": 46,
   "id": "7091fe48-8c30-4ceb-b413-4a9dae128a43",
   "metadata": {},
   "outputs": [
    {
     "data": {
      "text/html": [
       "<div>\n",
       "<style scoped>\n",
       "    .dataframe tbody tr th:only-of-type {\n",
       "        vertical-align: middle;\n",
       "    }\n",
       "\n",
       "    .dataframe tbody tr th {\n",
       "        vertical-align: top;\n",
       "    }\n",
       "\n",
       "    .dataframe thead th {\n",
       "        text-align: right;\n",
       "    }\n",
       "</style>\n",
       "<table border=\"1\" class=\"dataframe\">\n",
       "  <thead>\n",
       "    <tr style=\"text-align: right;\">\n",
       "      <th></th>\n",
       "      <th>id</th>\n",
       "      <th>name</th>\n",
       "      <th>80s</th>\n",
       "      <th>90s</th>\n",
       "      <th>alternative</th>\n",
       "      <th>alternativerock</th>\n",
       "      <th>ambient</th>\n",
       "      <th>british</th>\n",
       "      <th>classicrock</th>\n",
       "      <th>dance</th>\n",
       "      <th>...</th>\n",
       "      <th>hardrock</th>\n",
       "      <th>hiphop</th>\n",
       "      <th>indie</th>\n",
       "      <th>indierock</th>\n",
       "      <th>metal</th>\n",
       "      <th>newwave</th>\n",
       "      <th>no_tag</th>\n",
       "      <th>pop</th>\n",
       "      <th>rock</th>\n",
       "      <th>singersongwriter</th>\n",
       "    </tr>\n",
       "  </thead>\n",
       "  <tbody>\n",
       "    <tr>\n",
       "      <th>0</th>\n",
       "      <td>0</td>\n",
       "      <td>MALICE MIZER</td>\n",
       "      <td>0.0</td>\n",
       "      <td>0.0</td>\n",
       "      <td>0.0</td>\n",
       "      <td>0.0</td>\n",
       "      <td>0.0</td>\n",
       "      <td>0.0</td>\n",
       "      <td>0.0</td>\n",
       "      <td>0.0</td>\n",
       "      <td>...</td>\n",
       "      <td>0.0</td>\n",
       "      <td>0.0</td>\n",
       "      <td>0.0</td>\n",
       "      <td>0.0</td>\n",
       "      <td>0.0</td>\n",
       "      <td>0.0</td>\n",
       "      <td>1.0</td>\n",
       "      <td>0.0</td>\n",
       "      <td>0.0</td>\n",
       "      <td>0.0</td>\n",
       "    </tr>\n",
       "    <tr>\n",
       "      <th>1</th>\n",
       "      <td>1</td>\n",
       "      <td>Diary of Dreams</td>\n",
       "      <td>0.0</td>\n",
       "      <td>0.0</td>\n",
       "      <td>0.0</td>\n",
       "      <td>0.0</td>\n",
       "      <td>1.0</td>\n",
       "      <td>0.0</td>\n",
       "      <td>0.0</td>\n",
       "      <td>0.0</td>\n",
       "      <td>...</td>\n",
       "      <td>0.0</td>\n",
       "      <td>0.0</td>\n",
       "      <td>0.0</td>\n",
       "      <td>0.0</td>\n",
       "      <td>0.0</td>\n",
       "      <td>0.0</td>\n",
       "      <td>0.0</td>\n",
       "      <td>0.0</td>\n",
       "      <td>0.0</td>\n",
       "      <td>0.0</td>\n",
       "    </tr>\n",
       "    <tr>\n",
       "      <th>2</th>\n",
       "      <td>2</td>\n",
       "      <td>Carpathian Forest</td>\n",
       "      <td>0.0</td>\n",
       "      <td>0.0</td>\n",
       "      <td>0.0</td>\n",
       "      <td>0.0</td>\n",
       "      <td>0.0</td>\n",
       "      <td>0.0</td>\n",
       "      <td>0.0</td>\n",
       "      <td>0.0</td>\n",
       "      <td>...</td>\n",
       "      <td>0.0</td>\n",
       "      <td>0.0</td>\n",
       "      <td>0.0</td>\n",
       "      <td>0.0</td>\n",
       "      <td>0.0</td>\n",
       "      <td>0.0</td>\n",
       "      <td>1.0</td>\n",
       "      <td>0.0</td>\n",
       "      <td>0.0</td>\n",
       "      <td>0.0</td>\n",
       "    </tr>\n",
       "  </tbody>\n",
       "</table>\n",
       "<p>3 rows × 23 columns</p>\n",
       "</div>"
      ],
      "text/plain": [
       "   id               name  80s  90s  alternative  alternativerock  ambient  \\\n",
       "0   0       MALICE MIZER  0.0  0.0          0.0              0.0      0.0   \n",
       "1   1    Diary of Dreams  0.0  0.0          0.0              0.0      1.0   \n",
       "2   2  Carpathian Forest  0.0  0.0          0.0              0.0      0.0   \n",
       "\n",
       "   british  classicrock  dance  ...  hardrock  hiphop  indie  indierock  \\\n",
       "0      0.0          0.0    0.0  ...       0.0     0.0    0.0        0.0   \n",
       "1      0.0          0.0    0.0  ...       0.0     0.0    0.0        0.0   \n",
       "2      0.0          0.0    0.0  ...       0.0     0.0    0.0        0.0   \n",
       "\n",
       "   metal  newwave  no_tag  pop  rock  singersongwriter  \n",
       "0    0.0      0.0     1.0  0.0   0.0               0.0  \n",
       "1    0.0      0.0     0.0  0.0   0.0               0.0  \n",
       "2    0.0      0.0     1.0  0.0   0.0               0.0  \n",
       "\n",
       "[3 rows x 23 columns]"
      ]
     },
     "execution_count": 46,
     "metadata": {},
     "output_type": "execute_result"
    }
   ],
   "source": [
    "artist_features.head(3)"
   ]
  },
  {
   "cell_type": "markdown",
   "id": "cc95e1fa-4ed1-4a85-b27e-64ced72c543f",
   "metadata": {},
   "source": [
    "### How similar are friends' music tastes?"
   ]
  },
  {
   "cell_type": "markdown",
   "id": "34cb0cb0-ca97-4074-a1da-c3c033ba438f",
   "metadata": {},
   "source": [
    "This is to determine how useful the friends relationships are. We will calculate the percentage of artists that friends have in common."
   ]
  },
  {
   "cell_type": "markdown",
   "id": "7451de9f",
   "metadata": {},
   "source": [
    "**Remove repeated relationships**"
   ]
  },
  {
   "cell_type": "code",
   "execution_count": 47,
   "id": "fce53bd5",
   "metadata": {},
   "outputs": [],
   "source": [
    "user_friends = user_friends[pd.DataFrame(np.sort(user_friends.values), columns=user_friends.columns, index=user_friends.index).duplicated(keep='last')]"
   ]
  },
  {
   "cell_type": "markdown",
   "id": "5c0a9f46",
   "metadata": {},
   "source": [
    "Percentage of artists in common between a pair of friends = $\\frac{Friend1 artists \\bigcap Friend2 artists}{Friend1 artists \\bigcup Friend2}\\times 100$\n",
    "<!-- \n",
    "\n",
    "Percentage of artists in common between a pair of friends = $\\frac{Intersection of aritst lists}{Union of aritst lists}\\times 100$ -->"
   ]
  },
  {
   "cell_type": "code",
   "execution_count": 48,
   "id": "f8e3bbb4",
   "metadata": {},
   "outputs": [
    {
     "name": "stdout",
     "output_type": "stream",
     "text": [
      "Mean percentage of artists in common: 10.26%\n"
     ]
    }
   ],
   "source": [
    "artists_incommon = []\n",
    "for index, row in user_friends.iterrows():\n",
    "    friend1 = set(user_artists[user_artists.userID == row.userID].artistID)\n",
    "    friend2 = set(user_artists[user_artists.userID == row.friendID].artistID)\n",
    "    incommon = friend1.intersection(friend2)\n",
    "    total = friend1.union(friend2)\n",
    "    pc_incommon = len(incommon) / len(total) * 100\n",
    "    artists_incommon.append(pc_incommon)\n",
    "\n",
    "print(\"Mean percentage of artists in common: %.2f%%\" % np.mean(np.array(artists_incommon)))"
   ]
  },
  {
   "cell_type": "markdown",
   "id": "b4ee37a6",
   "metadata": {},
   "source": [
    "## Create DataFrames for Recommendation Building"
   ]
  },
  {
   "cell_type": "markdown",
   "id": "914fde82",
   "metadata": {},
   "source": [
    "### Artist Information"
   ]
  },
  {
   "cell_type": "markdown",
   "id": "6659ae97-74c7-42b4-8894-010bfc1b4dc5",
   "metadata": {},
   "source": [
    "Let's create a datframe that contains information on each artist. \n",
    "It will contain artist id, name, their 3 most common tags, a list of all their tags, the year they were listened to most and a count of how many times they were listened to."
   ]
  },
  {
   "cell_type": "code",
   "execution_count": 49,
   "id": "65b2d30d",
   "metadata": {},
   "outputs": [],
   "source": [
    "# function to get the most frequent tags for each artist, if the artist only has 1 tag it will repeat it\n",
    "def get_top_n(tag_list, n):\n",
    "    try:\n",
    "        genre_n = tag_list.value_counts().index[n-1]\n",
    "    except:\n",
    "        genre_n = tag_list.value_counts().index[0]\n",
    "    return genre_n"
   ]
  },
  {
   "cell_type": "code",
   "execution_count": 50,
   "id": "5057192a",
   "metadata": {},
   "outputs": [],
   "source": [
    "# user_tagged_artists['tagValue'] = user_tagged_artists.tagID.map(tag_dict)\n",
    "top_tag = user_tagged_artists_tag.groupby('artistID').tag.agg(lambda x:get_top_n(x, 1))\n",
    "sec_tag = user_tagged_artists_tag.groupby('artistID').tag.agg(lambda x:get_top_n(x, 2))\n",
    "third_tag = user_tagged_artists_tag.groupby('artistID').tag.agg(lambda x:get_top_n(x, 3))\n",
    "all_tags = user_tagged_artists_tag.groupby('artistID').tag.agg(lambda x:x.unique().astype('str').tolist())\n",
    "peak_year = user_tagged_artists.groupby('artistID').year.agg(lambda x:x.mode()[0]) #choses earliest year if there's a draw\n",
    "artists_df = pd.concat([top_tag,sec_tag,third_tag,all_tags,peak_year],axis=1,keys=['tag_1', 'tag_2','tag_3','all_tags','peak_year']).reset_index()\n",
    "artists_df.artistID = artists_df.artistID.astype('int')\n",
    "\n",
    "artists_df = artists.merge(artists_df, right_on='artistID', left_on='id', how='left').drop(['url','artistID'], axis = 1)\n",
    "listens_count = user_artists.groupby('artistID').size().to_frame('listen_count')\n",
    "artists_df = pd.concat([artists_df, listens_count],axis=1)\n",
    "artists_df.name = artists_df.name.astype('str')\n",
    "artists_df.peak_year = artists_df.peak_year.fillna(2004).astype('int')\n",
    "artists_df.tag_1 = artists_df.tag_1.fillna('no_tags')\n",
    "artists_df.all_tags = artists_df.all_tags.fillna('[]')\n",
    "artist_features['peak_year'] = peak_year\n",
    "artist_features['all_tags'] = all_tags"
   ]
  },
  {
   "cell_type": "code",
   "execution_count": 51,
   "id": "b0f0c835",
   "metadata": {},
   "outputs": [
    {
     "data": {
      "text/html": [
       "<div>\n",
       "<style scoped>\n",
       "    .dataframe tbody tr th:only-of-type {\n",
       "        vertical-align: middle;\n",
       "    }\n",
       "\n",
       "    .dataframe tbody tr th {\n",
       "        vertical-align: top;\n",
       "    }\n",
       "\n",
       "    .dataframe thead th {\n",
       "        text-align: right;\n",
       "    }\n",
       "</style>\n",
       "<table border=\"1\" class=\"dataframe\">\n",
       "  <thead>\n",
       "    <tr style=\"text-align: right;\">\n",
       "      <th></th>\n",
       "      <th>id</th>\n",
       "      <th>name</th>\n",
       "      <th>tag_1</th>\n",
       "      <th>tag_2</th>\n",
       "      <th>tag_3</th>\n",
       "      <th>all_tags</th>\n",
       "      <th>peak_year</th>\n",
       "      <th>listen_count</th>\n",
       "    </tr>\n",
       "  </thead>\n",
       "  <tbody>\n",
       "    <tr>\n",
       "      <th>0</th>\n",
       "      <td>0</td>\n",
       "      <td>MALICE MIZER</td>\n",
       "      <td>jrock</td>\n",
       "      <td>visualkei</td>\n",
       "      <td>gothic</td>\n",
       "      <td>[weeabo, jrock, visualkei, betterthanladygaga,...</td>\n",
       "      <td>2008</td>\n",
       "      <td>3</td>\n",
       "    </tr>\n",
       "    <tr>\n",
       "      <th>1</th>\n",
       "      <td>1</td>\n",
       "      <td>Diary of Dreams</td>\n",
       "      <td>darkwave</td>\n",
       "      <td>german</td>\n",
       "      <td>gothic</td>\n",
       "      <td>[german, seenlive, darkwave, industrial, gothi...</td>\n",
       "      <td>2009</td>\n",
       "      <td>12</td>\n",
       "    </tr>\n",
       "    <tr>\n",
       "      <th>2</th>\n",
       "      <td>2</td>\n",
       "      <td>Carpathian Forest</td>\n",
       "      <td>blackmetal</td>\n",
       "      <td>truenorwegianblackmetal</td>\n",
       "      <td>norwegianblackmetal</td>\n",
       "      <td>[blackmetal, norwegianblackmetal, truenorwegia...</td>\n",
       "      <td>2008</td>\n",
       "      <td>3</td>\n",
       "    </tr>\n",
       "  </tbody>\n",
       "</table>\n",
       "</div>"
      ],
      "text/plain": [
       "   id               name       tag_1                    tag_2  \\\n",
       "0   0       MALICE MIZER       jrock                visualkei   \n",
       "1   1    Diary of Dreams    darkwave                   german   \n",
       "2   2  Carpathian Forest  blackmetal  truenorwegianblackmetal   \n",
       "\n",
       "                 tag_3                                           all_tags  \\\n",
       "0               gothic  [weeabo, jrock, visualkei, betterthanladygaga,...   \n",
       "1               gothic  [german, seenlive, darkwave, industrial, gothi...   \n",
       "2  norwegianblackmetal  [blackmetal, norwegianblackmetal, truenorwegia...   \n",
       "\n",
       "   peak_year  listen_count  \n",
       "0       2008             3  \n",
       "1       2009            12  \n",
       "2       2008             3  "
      ]
     },
     "execution_count": 51,
     "metadata": {},
     "output_type": "execute_result"
    }
   ],
   "source": [
    "artists_df.head(3)"
   ]
  },
  {
   "cell_type": "markdown",
   "id": "d8dc9138",
   "metadata": {},
   "source": [
    "### Listens Per Artist"
   ]
  },
  {
   "cell_type": "markdown",
   "id": "ffdfdb01-58f4-42c4-9828-7fe09fab7167",
   "metadata": {},
   "source": [
    "A dataframe contain userID, artistID, and scaled listenCount."
   ]
  },
  {
   "cell_type": "code",
   "execution_count": 52,
   "id": "bf8024f3",
   "metadata": {},
   "outputs": [
    {
     "data": {
      "text/html": [
       "<div>\n",
       "<style scoped>\n",
       "    .dataframe tbody tr th:only-of-type {\n",
       "        vertical-align: middle;\n",
       "    }\n",
       "\n",
       "    .dataframe tbody tr th {\n",
       "        vertical-align: top;\n",
       "    }\n",
       "\n",
       "    .dataframe thead th {\n",
       "        text-align: right;\n",
       "    }\n",
       "</style>\n",
       "<table border=\"1\" class=\"dataframe\">\n",
       "  <thead>\n",
       "    <tr style=\"text-align: right;\">\n",
       "      <th></th>\n",
       "      <th>userID</th>\n",
       "      <th>artistID</th>\n",
       "      <th>listenCount</th>\n",
       "    </tr>\n",
       "  </thead>\n",
       "  <tbody>\n",
       "    <tr>\n",
       "      <th>0</th>\n",
       "      <td>0</td>\n",
       "      <td>45</td>\n",
       "      <td>3.047442</td>\n",
       "    </tr>\n",
       "    <tr>\n",
       "      <th>1</th>\n",
       "      <td>0</td>\n",
       "      <td>46</td>\n",
       "      <td>3.047442</td>\n",
       "    </tr>\n",
       "    <tr>\n",
       "      <th>2</th>\n",
       "      <td>0</td>\n",
       "      <td>47</td>\n",
       "      <td>3.047442</td>\n",
       "    </tr>\n",
       "  </tbody>\n",
       "</table>\n",
       "</div>"
      ],
      "text/plain": [
       "   userID  artistID  listenCount\n",
       "0       0        45     3.047442\n",
       "1       0        46     3.047442\n",
       "2       0        47     3.047442"
      ]
     },
     "execution_count": 52,
     "metadata": {},
     "output_type": "execute_result"
    }
   ],
   "source": [
    "listens = user_artists\n",
    "listens = listens.rename(columns={'weight': 'listenCount'})\n",
    "listens.head(3)"
   ]
  },
  {
   "cell_type": "markdown",
   "id": "454703ff",
   "metadata": {},
   "source": [
    "### Save Files"
   ]
  },
  {
   "cell_type": "code",
   "execution_count": 53,
   "id": "b12e4ecb",
   "metadata": {
    "pycharm": {
     "name": "#%%\n"
    }
   },
   "outputs": [],
   "source": [
    "artists.to_csv('..\\\\data\\\\processed\\\\artists.csv')\n",
    "tags.to_csv('..\\\\data\\\\processed\\\\tags.csv')\n",
    "user_artists.to_csv('..\\\\data\\\\processed\\\\user_artists.csv')\n",
    "user_friends.to_csv('..\\\\data\\\\processed\\\\user_friends.csv')\n",
    "user_tagged_artists.to_csv('..\\\\data\\\\processed\\\\user_tagged_artists.csv')\n",
    "artists_df.to_csv('..\\\\data\\\\processed\\\\artist_info.csv')\n",
    "listens.to_csv('..\\\\data\\\\processed\\\\listens.csv')\n",
    "artist_features.to_csv('..\\\\data\\\\processed\\\\artist_features.csv')"
   ]
  }
 ],
 "metadata": {
  "kernelspec": {
   "display_name": "Python 3 (ipykernel)",
   "language": "python",
   "name": "python3"
  },
  "language_info": {
   "codemirror_mode": {
    "name": "ipython",
    "version": 3
   },
   "file_extension": ".py",
   "mimetype": "text/x-python",
   "name": "python",
   "nbconvert_exporter": "python",
   "pygments_lexer": "ipython3",
   "version": "3.8.12"
  }
 },
 "nbformat": 4,
 "nbformat_minor": 5
}