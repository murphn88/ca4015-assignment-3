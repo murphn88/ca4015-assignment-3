{
 "cells": [
  {
   "cell_type": "markdown",
   "id": "W9bcJIETGA2k",
   "metadata": {
    "id": "W9bcJIETGA2k"
   },
   "source": [
    "# Softmax model"
   ]
  },
  {
   "cell_type": "markdown",
   "id": "7HPJmjrmGA2l",
   "metadata": {
    "id": "7HPJmjrmGA2l"
   },
   "source": [
    "In this section, we will train a simple softmax model that predicts whether a given user has listened to an artist.\n",
    "The model will take as input a feature vector $x$ representing the list of artists the user has listened to. Softmax, sometimes referred to as multinomial logistic regression, is a form of logistic regression. Softmax treats the problem as a multiclass prediction problem and will calculate the probability a user has listened to a certain song."
   ]
  },
  {
   "cell_type": "markdown",
   "id": "e76bd7a4-7ce0-4dd6-97a9-4f7e638671b3",
   "metadata": {},
   "source": [
    "## Outline\n",
    "  1. Batch Generation\n",
    "  1. Loss Function\n",
    "  1. Build, Train, Inspect"
   ]
  },
  {
   "cell_type": "markdown",
   "id": "VSImTuiFGA2l",
   "metadata": {
    "id": "VSImTuiFGA2l"
   },
   "source": [
    "## Create DataFrame"
   ]
  },
  {
   "cell_type": "code",
   "execution_count": null,
   "id": "SulIpjTPGA2m",
   "metadata": {
    "colab": {
     "base_uri": "https://localhost:8080/"
    },
    "id": "SulIpjTPGA2m",
    "outputId": "6d1df589-cc70-4133-d408-6b767b75b00c",
    "pycharm": {
     "name": "#%%\n"
    }
   },
   "outputs": [
    {
     "data": {
      "text/html": [
       "<div>\n",
       "<style scoped>\n",
       "    .dataframe tbody tr th:only-of-type {\n",
       "        vertical-align: middle;\n",
       "    }\n",
       "\n",
       "    .dataframe tbody tr th {\n",
       "        vertical-align: top;\n",
       "    }\n",
       "\n",
       "    .dataframe thead th {\n",
       "        text-align: right;\n",
       "    }\n",
       "</style>\n",
       "<table border=\"1\" class=\"dataframe\">\n",
       "  <thead>\n",
       "    <tr style=\"text-align: right;\">\n",
       "      <th></th>\n",
       "      <th>userID</th>\n",
       "      <th>artistID</th>\n",
       "    </tr>\n",
       "  </thead>\n",
       "  <tbody>\n",
       "    <tr>\n",
       "      <th>0</th>\n",
       "      <td>0</td>\n",
       "      <td>[45, 46, 47, 48, 49, 50, 51, 52, 53, 54, 55, 5...</td>\n",
       "    </tr>\n",
       "    <tr>\n",
       "      <th>1</th>\n",
       "      <td>1</td>\n",
       "      <td>[95, 96, 97, 98, 99, 100, 101, 102, 103, 104, ...</td>\n",
       "    </tr>\n",
       "    <tr>\n",
       "      <th>2</th>\n",
       "      <td>10</td>\n",
       "      <td>[66, 183, 185, 224, 282, 294, 327, 338, 371, 3...</td>\n",
       "    </tr>\n",
       "    <tr>\n",
       "      <th>3</th>\n",
       "      <td>100</td>\n",
       "      <td>[597, 610, 735, 739, 744, 746, 747, 763, 769, ...</td>\n",
       "    </tr>\n",
       "    <tr>\n",
       "      <th>4</th>\n",
       "      <td>1000</td>\n",
       "      <td>[49, 50, 58, 59, 61, 65, 83, 251, 282, 283, 28...</td>\n",
       "    </tr>\n",
       "  </tbody>\n",
       "</table>\n",
       "</div>"
      ],
      "text/plain": [
       "  userID                                           artistID\n",
       "0      0  [45, 46, 47, 48, 49, 50, 51, 52, 53, 54, 55, 5...\n",
       "1      1  [95, 96, 97, 98, 99, 100, 101, 102, 103, 104, ...\n",
       "2     10  [66, 183, 185, 224, 282, 294, 327, 338, 371, 3...\n",
       "3    100  [597, 610, 735, 739, 744, 746, 747, 763, 769, ...\n",
       "4   1000  [49, 50, 58, 59, 61, 65, 83, 251, 282, 283, 28..."
      ]
     },
     "execution_count": 24,
     "metadata": {},
     "output_type": "execute_result"
    }
   ],
   "source": [
    "listened_artists = (listens[[\"userID\", \"artistID\"]]\n",
    "                .groupby(\"userID\", as_index=False)\n",
    "                .aggregate(lambda x: list(x.apply(str))))\n",
    "listened_artists.userID = listened_artists.userID.astype('str')\n",
    "listened_artists.head()"
   ]
  },
  {
   "cell_type": "markdown",
   "id": "9fLqW6c5GA2n",
   "metadata": {
    "id": "9fLqW6c5GA2n"
   },
   "source": [
    "## Batch generation"
   ]
  },
  {
   "cell_type": "markdown",
   "id": "Dv8lRomnGA2o",
   "metadata": {
    "id": "Dv8lRomnGA2o"
   },
   "source": [
    "We then create a function that generates an example batch, such that each example contains the following features:\n",
    "- artistID: A tensor of strings of the artist ids that the user listened to.\n",
    "- tag: A tensor of strings of the tags of those artists\n",
    "- year: A tensor of strings of the peak year."
   ]
  },
  {
   "cell_type": "code",
   "execution_count": null,
   "id": "GGD_z7ByGA2p",
   "metadata": {
    "id": "GGD_z7ByGA2p",
    "pycharm": {
     "name": "#%%\n"
    }
   },
   "outputs": [],
   "source": [
    "years_dict = {\n",
    "    artist: year for artist, year in zip(artists_df[\"id\"], artists_df[\"peak_year\"])\n",
    "}\n",
    "tags_dict = {\n",
    "    artist: tags\n",
    "    for artist, tags in zip(artists_df[\"id\"], artists_df[\"all_tags\"])\n",
    "}\n",
    "\n",
    "def make_batch(listens, batch_size):\n",
    "  \"\"\"Creates a batch of examples.\n",
    "  Args:\n",
    "    listens: A DataFrame of ratings such that examples[\"artistID\"] is a list of\n",
    "      artists listened to by a user.\n",
    "    batch_size: The batch size.\n",
    "  \"\"\"\n",
    "  def pad(x, fill):\n",
    "    return pd.DataFrame.from_dict(x).fillna(fill).values\n",
    "\n",
    "  artist = []\n",
    "  year = []\n",
    "  tag = []\n",
    "  label = []\n",
    "  for artistIDs in listens[\"artistID\"].values:\n",
    "    artist.append(artistIDs)\n",
    "    tag.append([x for artistID in artistIDs for x in tags_dict[artistID]])\n",
    "    year.append([years_dict[artistID] for artistID in artistIDs])\n",
    "    label.append([int(artistID) for artistID in artistIDs])\n",
    "  features = {\n",
    "      \"id\": pad(artist, \"\"),\n",
    "      \"peak_year\": pad(year, \"\"),\n",
    "      \"tag_1\": pad(tag, \"\"),\n",
    "      \"label\": pad(label, -1)\n",
    "  }\n",
    "  print('making batch')\n",
    "  global tmp\n",
    "  tmp = features\n",
    "  batch = (\n",
    "      tf.data.Dataset.from_tensor_slices(features)\n",
    "      .shuffle(1000)\n",
    "      .repeat()\n",
    "      .batch(batch_size)\n",
    "      .make_one_shot_iterator()\n",
    "      .get_next())\n",
    "\n",
    "  return batch\n",
    "\n",
    "def select_random(x):\n",
    "  \"\"\"Selectes a random elements from each row of x.\"\"\"\n",
    "  def to_float(x):\n",
    "    return tf.cast(x, tf.float32)\n",
    "  def to_int(x):\n",
    "    return tf.cast(x, tf.int64)\n",
    "  batch_size = tf.shape(x)[0]\n",
    "  rn = tf.range(batch_size)\n",
    "  nnz = to_float(tf.count_nonzero(x >= 0, axis=1))\n",
    "  rnd = tf.random_uniform([batch_size])\n",
    "  ids = tf.stack([to_int(rn), to_int(nnz * rnd)], axis=1)\n",
    "  return to_int(tf.gather_nd(x, ids))"
   ]
  },
  {
   "cell_type": "markdown",
   "id": "2w4YhcJzGA2s",
   "metadata": {
    "id": "2w4YhcJzGA2s"
   },
   "source": [
    "## Loss function\n",
    "Tthe softmax model maps the input features $x$ to a user embedding $\\psi(x) \\in \\mathbb R^d$, where $d$ is the embedding dimension. This vector is then multiplied by an artist embedding matrix $V \\in \\mathbb R^{m \\times d}$ (where $m$ is the number of artists), and the final output of the model is the softmax of the product\n",
    "$$\n",
    "\\hat p(x) = \\text{softmax}(\\psi(x) V^\\top).\n",
    "$$\n",
    "Given a target label $y$, if we denote by $p = 1_y$ a one-hot encoding of this target label, then the loss is the cross-entropy between $\\hat p(x)$ and $p$."
   ]
  },
  {
   "cell_type": "markdown",
   "id": "QBLQrKXvGA2v",
   "metadata": {
    "id": "QBLQrKXvGA2v"
   },
   "source": [
    "We will write a function that takes tensors representing the user embeddings  ψ(x) , movie embeddings  V , target label  y , and return the cross-entropy loss."
   ]
  },
  {
   "cell_type": "code",
   "execution_count": null,
   "id": "YztO82r8GA2w",
   "metadata": {
    "id": "YztO82r8GA2w",
    "pycharm": {
     "name": "#%%\n"
    }
   },
   "outputs": [],
   "source": [
    "def softmax_loss(user_embeddings, artist_embeddings, labels):\n",
    "  \"\"\"Returns the cross-entropy loss of the softmax model.\n",
    "  Args:\n",
    "    user_embeddings: A tensor of shape [batch_size, embedding_dim].\n",
    "    artist_embeddings: A tensor of shape [num_artists, embedding_dim].\n",
    "    labels: A tensor of [batch_size], such that labels[i] is the target label\n",
    "      for example i.\n",
    "  Returns:\n",
    "    The mean cross-entropy loss.\n",
    "  \"\"\"\n",
    "  # Verify that the embddings have compatible dimensions\n",
    "  user_emb_dim = user_embeddings.shape[1]\n",
    "  artist_emb_dim = artist_embeddings.shape[1]\n",
    "  if user_emb_dim != artist_emb_dim:\n",
    "    raise ValueError(\n",
    "        \"The user embedding dimension %d should match the artist embedding \"\n",
    "        \"dimension % d\" % (user_emb_dim, artist_emb_dim))\n",
    "\n",
    "  logits = tf.matmul(user_embeddings, artist_embeddings, transpose_b=True)\n",
    "  loss = tf.reduce_mean(tf.nn.sparse_softmax_cross_entropy_with_logits(\n",
    "      logits=logits, labels=labels))\n",
    "  return loss"
   ]
  },
  {
   "cell_type": "markdown",
   "id": "Hw1JIqHOGA2x",
   "metadata": {
    "id": "Hw1JIqHOGA2x"
   },
   "source": [
    "## Build a softmax model, train it, and inspect its embeddings."
   ]
  },
  {
   "cell_type": "markdown",
   "id": "bFYjOjN2GA2y",
   "metadata": {
    "id": "bFYjOjN2GA2y"
   },
   "source": [
    "We are now ready to build a softmax CFModel. The architecture of the model is defined in the function `create_user_embeddings` and illustrated in the figure below. The input embeddings (artistID, tag_1 and peak_year) are concatenated to form the input layer, then we have hidden layers with dimensions specified by the `hidden_dims` argument. Finally, the last hidden layer is multiplied by the artist embeddings to obtain the logits layer. For the target label, we will use a randomly-sampled artistID from the list of artists the user has listened to.\n",
    "\n",
    "![Softmax model](.\\\\softmax_schematic.png)"
   ]
  },
  {
   "cell_type": "markdown",
   "id": "FaSL7LlWGA2z",
   "metadata": {
    "id": "FaSL7LlWGA2z"
   },
   "source": [
    "### Build"
   ]
  },
  {
   "cell_type": "code",
   "execution_count": null,
   "id": "_1HX6dPVGA2z",
   "metadata": {
    "id": "_1HX6dPVGA2z",
    "pycharm": {
     "name": "#%%\n"
    }
   },
   "outputs": [],
   "source": [
    "def build_softmax_model(listened_artists, embedding_cols, hidden_dims):\n",
    "  \"\"\"Builds a Softmax model for lastfm.\n",
    "  Args:\n",
    "    listened_artists: DataFrame of traing examples.\n",
    "    embedding_cols: A dictionary mapping feature names (string) to embedding\n",
    "      column objects. This will be used in tf.feature_column.input_layer() to\n",
    "      create the input layer.\n",
    "    hidden_dims: int list of the dimensions of the hidden layers.\n",
    "  Returns:\n",
    "    A CFModel object.\n",
    "  \"\"\"\n",
    "  def create_network(features):\n",
    "    \"\"\"Maps input features dictionary to user embeddings.\n",
    "    Args:\n",
    "      features: A dictionary of input string tensors.\n",
    "    Returns:\n",
    "      outputs: A tensor of shape [batch_size, embedding_dim].\n",
    "    \"\"\"\n",
    "    # Create a bag-of-words embedding for each sparse feature.\n",
    "    inputs = tf.feature_column.input_layer(features, embedding_cols)\n",
    "    # Hidden layers.\n",
    "    input_dim = inputs.shape[1]\n",
    "    for i, output_dim in enumerate(hidden_dims):\n",
    "      w = tf.get_variable(\n",
    "          \"hidden%d_w_\" % i, shape=[input_dim, output_dim],\n",
    "          initializer=tf.truncated_normal_initializer(\n",
    "              stddev=1./np.sqrt(output_dim))) / 10.\n",
    "      outputs = tf.matmul(inputs, w)\n",
    "      input_dim = output_dim\n",
    "      inputs = outputs\n",
    "    return outputs\n",
    "\n",
    "  train_listened_artists, test_listened_artists = split_dataframe(listened_artists)\n",
    "  train_batch = make_batch(train_listened_artists, 200)\n",
    "  test_batch = make_batch(test_listened_artists, 100)\n",
    "\n",
    "  with tf.variable_scope(\"model\", reuse=False):\n",
    "    # Train\n",
    "    train_user_embeddings = create_network(train_batch)\n",
    "    train_labels = select_random(train_batch[\"label\"])\n",
    "  with tf.variable_scope(\"model\", reuse=True):\n",
    "    # Test\n",
    "    test_user_embeddings = create_network(test_batch)\n",
    "    test_labels = select_random(test_batch[\"label\"])\n",
    "    artist_embeddings = tf.get_variable(\n",
    "        \"input_layer/id_embedding/embedding_weights\")\n",
    "\n",
    "  test_loss = softmax_loss(\n",
    "      test_user_embeddings, artist_embeddings, test_labels)\n",
    "  train_loss = softmax_loss(\n",
    "      train_user_embeddings, artist_embeddings, train_labels)\n",
    "  _, test_precision_at_10 = tf.metrics.precision_at_k(\n",
    "      labels=test_labels,\n",
    "      predictions=tf.matmul(test_user_embeddings, artist_embeddings, transpose_b=True),\n",
    "      k=10)\n",
    "\n",
    "  metrics = (\n",
    "      {\"train_loss\": train_loss, \"test_loss\": test_loss},\n",
    "      {\"test_precision_at_10\": test_precision_at_10}\n",
    "  )\n",
    "  embeddings = {\"artistID\": artist_embeddings}\n",
    "  return CFModel(embeddings, train_loss, metrics)"
   ]
  },
  {
   "cell_type": "markdown",
   "id": "XRGDB1JFGA21",
   "metadata": {
    "id": "XRGDB1JFGA21"
   },
   "source": [
    "### Train"
   ]
  },
  {
   "cell_type": "markdown",
   "id": "MMmhNjjeGA21",
   "metadata": {
    "id": "MMmhNjjeGA21"
   },
   "source": [
    "We are now ready to train the softmax model. The following hyperparameters can be set:\n",
    "- learning rate\n",
    "- number of iterations. Note: you can run `softmax_model.train()` again to continue training the model from its current state.\n",
    "- input embedding dimensions (the `input_dims` argument)\n",
    "- number of hidden layers and size of each layer (the `hidden_dims` argument)\n",
    "\n",
    "Note: since our input features are string-valued (artistID, tag_1, and peak_year), we need to map them to integer ids. This is done using [`tf.feature_column.categorical_column_with_vocabulary_list`](https://www.tensorflow.org/api_docs/python/tf/feature_column/categorical_column_with_vocabulary_list), which takes a vocabulary list specifying all the values the feature can take. Then each id is mapped to an embedding vector using [`tf.feature_column.embedding_column`](https://www.tensorflow.org/api_docs/python/tf/feature_column/embedding_column).\n"
   ]
  },
  {
   "cell_type": "code",
   "execution_count": null,
   "id": "YHpvPk-LGA22",
   "metadata": {
    "colab": {
     "base_uri": "https://localhost:8080/"
    },
    "collapsed": true,
    "id": "YHpvPk-LGA22",
    "jupyter": {
     "outputs_hidden": true
    },
    "outputId": "9eae99b1-5916-47ec-f77f-7bddbfbffa69",
    "pycharm": {
     "name": "#%%\n"
    },
    "tags": []
   },
   "outputs": [
    {
     "name": "stdout",
     "output_type": "stream",
     "text": [
      "making batch\n"
     ]
    }
   ],
   "source": [
    "# Create feature embedding columns\n",
    "def make_embedding_col(key, embedding_dim):\n",
    "  categorical_col = tf.feature_column.categorical_column_with_vocabulary_list(\n",
    "      key=key, vocabulary_list=list(set(artists_df[key].values)), num_oov_buckets=0)\n",
    "  return tf.feature_column.embedding_column(\n",
    "      categorical_column=categorical_col, dimension=embedding_dim,\n",
    "      # default initializer: trancated normal with stddev=1/sqrt(dimension)\n",
    "      combiner='mean')\n",
    "\n",
    "with tf.Graph().as_default():\n",
    "  softmax_model = build_softmax_model(\n",
    "      listened_artists,\n",
    "      embedding_cols=[\n",
    "          make_embedding_col(\"id\", 35),\n",
    "          # make_embedding_col(\"tag\", 3),\n",
    "          # make_embedding_col(\"peak_year\", 2),\n",
    "      ],\n",
    "      hidden_dims=[35])"
   ]
  },
  {
   "cell_type": "code",
   "execution_count": null,
   "id": "jGtVjIOqewUl",
   "metadata": {
    "colab": {
     "base_uri": "https://localhost:8080/"
    },
    "id": "jGtVjIOqewUl",
    "outputId": "533c92b7-60e6-48e0-ab57-87ad3fa8dc85"
   },
   "outputs": [
    {
     "name": "stdout",
     "output_type": "stream",
     "text": [
      "WARNING:tensorflow:From /usr/local/lib/python3.7/dist-packages/tensorflow/python/training/adagrad.py:143: calling Constant.__init__ (from tensorflow.python.ops.init_ops) with dtype is deprecated and will be removed in a future version.\n",
      "Instructions for updating:\n",
      "Call initializer instance with the dtype argument instead of passing it to the constructor\n",
      " iteration 3000: train_loss=6.966783, test_loss=7.547706, test_precision_at_10=0.007220"
     ]
    },
    {
     "data": {
      "text/plain": [
       "({'test_loss': 7.5477057, 'train_loss': 6.966783},\n",
       " {'test_precision_at_10': 0.007219926691102965})"
      ]
     },
     "execution_count": 29,
     "metadata": {},
     "output_type": "execute_result"
    },
    {
     "data": {
      "image/png": "[encoded data removed]",
      "text/plain": [
       "<Figure size 2160x576 with 2 Axes>"
      ]
     },
     "metadata": {
      "needs_background": "light"
     },
     "output_type": "display_data"
    }
   ],
   "source": [
    "softmax_model.train(\n",
    "    learning_rate=8., num_iterations=3000, optimizer=tf.train.AdagradOptimizer)\n",
    "# change iterations to 3000"
   ]
  },
  {
   "cell_type": "markdown",
   "id": "143bd72d",
   "metadata": {},
   "source": [
    "The train loss is higher than the loss seen in previous models. Precision does improve with more training, however it remains low, reaching a maximum value of 0.0072. Precision for recommender systems is generally low as we are predicting items users might be interested in out of a large set of items. It is hard to tell if a user would actually be interested in an item if it is never presented to them as an option."
   ]
  },
  {
   "cell_type": "markdown",
   "id": "BQqAHiP7GA23",
   "metadata": {
    "id": "BQqAHiP7GA23"
   },
   "source": [
    "### Inspect Embeddings\n",
    "\n",
    "We can inspect the artist embeddings as we did for the previous models. Note that in this case, the artist embeddings are used at the same time as input embeddings (for the bag of words representation of the user listening history), and as softmax weights."
   ]
  },
  {
   "cell_type": "code",
   "execution_count": null,
   "id": "ivn9GThxGA24",
   "metadata": {
    "colab": {
     "base_uri": "https://localhost:8080/"
    },
    "id": "ivn9GThxGA24",
    "outputId": "59e789e1-1f31-4dc0-cd7f-5bc716697ba5",
    "pycharm": {
     "name": "#%%\n"
    }
   },
   "outputs": [
    {
     "name": "stdout",
     "output_type": "stream",
     "text": [
      "Nearest neighbors of : Coldplay.\n",
      "[Found more than one matching artist. Other candidates: Jay-Z & Coldplay, Coldplay/U2]\n"
     ]
    },
    {
     "data": {
      "text/html": [
       "<div>\n",
       "<style scoped>\n",
       "    .dataframe tbody tr th:only-of-type {\n",
       "        vertical-align: middle;\n",
       "    }\n",
       "\n",
       "    .dataframe tbody tr th {\n",
       "        vertical-align: top;\n",
       "    }\n",
       "\n",
       "    .dataframe thead th {\n",
       "        text-align: right;\n",
       "    }\n",
       "</style>\n",
       "<table border=\"1\" class=\"dataframe\">\n",
       "  <thead>\n",
       "    <tr style=\"text-align: right;\">\n",
       "      <th></th>\n",
       "      <th>dot score</th>\n",
       "      <th>names</th>\n",
       "    </tr>\n",
       "  </thead>\n",
       "  <tbody>\n",
       "    <tr>\n",
       "      <th>59</th>\n",
       "      <td>36.792</td>\n",
       "      <td>Coldplay</td>\n",
       "    </tr>\n",
       "    <tr>\n",
       "      <th>223</th>\n",
       "      <td>33.686</td>\n",
       "      <td>The Killers</td>\n",
       "    </tr>\n",
       "    <tr>\n",
       "      <th>184</th>\n",
       "      <td>32.686</td>\n",
       "      <td>Muse</td>\n",
       "    </tr>\n",
       "    <tr>\n",
       "      <th>527</th>\n",
       "      <td>31.506</td>\n",
       "      <td>Oasis</td>\n",
       "    </tr>\n",
       "    <tr>\n",
       "      <th>214</th>\n",
       "      <td>31.132</td>\n",
       "      <td>Red Hot Chili Peppers</td>\n",
       "    </tr>\n",
       "    <tr>\n",
       "      <th>201</th>\n",
       "      <td>29.505</td>\n",
       "      <td>Arctic Monkeys</td>\n",
       "    </tr>\n",
       "  </tbody>\n",
       "</table>\n",
       "</div>"
      ],
      "text/plain": [
       "     dot score                  names\n",
       "59      36.792               Coldplay\n",
       "223     33.686            The Killers\n",
       "184     32.686                   Muse\n",
       "527     31.506                  Oasis\n",
       "214     31.132  Red Hot Chili Peppers\n",
       "201     29.505         Arctic Monkeys"
      ]
     },
     "metadata": {},
     "output_type": "display_data"
    },
    {
     "name": "stdout",
     "output_type": "stream",
     "text": [
      "Nearest neighbors of : Coldplay.\n",
      "[Found more than one matching artist. Other candidates: Jay-Z & Coldplay, Coldplay/U2]\n"
     ]
    },
    {
     "data": {
      "text/html": [
       "<div>\n",
       "<style scoped>\n",
       "    .dataframe tbody tr th:only-of-type {\n",
       "        vertical-align: middle;\n",
       "    }\n",
       "\n",
       "    .dataframe tbody tr th {\n",
       "        vertical-align: top;\n",
       "    }\n",
       "\n",
       "    .dataframe thead th {\n",
       "        text-align: right;\n",
       "    }\n",
       "</style>\n",
       "<table border=\"1\" class=\"dataframe\">\n",
       "  <thead>\n",
       "    <tr style=\"text-align: right;\">\n",
       "      <th></th>\n",
       "      <th>cosine score</th>\n",
       "      <th>names</th>\n",
       "    </tr>\n",
       "  </thead>\n",
       "  <tbody>\n",
       "    <tr>\n",
       "      <th>59</th>\n",
       "      <td>1.000</td>\n",
       "      <td>Coldplay</td>\n",
       "    </tr>\n",
       "    <tr>\n",
       "      <th>1366</th>\n",
       "      <td>0.950</td>\n",
       "      <td>Snow Patrol</td>\n",
       "    </tr>\n",
       "    <tr>\n",
       "      <th>223</th>\n",
       "      <td>0.939</td>\n",
       "      <td>The Killers</td>\n",
       "    </tr>\n",
       "    <tr>\n",
       "      <th>310</th>\n",
       "      <td>0.925</td>\n",
       "      <td>Alanis Morissette</td>\n",
       "    </tr>\n",
       "    <tr>\n",
       "      <th>527</th>\n",
       "      <td>0.923</td>\n",
       "      <td>Oasis</td>\n",
       "    </tr>\n",
       "    <tr>\n",
       "      <th>165</th>\n",
       "      <td>0.913</td>\n",
       "      <td>Stereophonics</td>\n",
       "    </tr>\n",
       "  </tbody>\n",
       "</table>\n",
       "</div>"
      ],
      "text/plain": [
       "      cosine score              names\n",
       "59           1.000           Coldplay\n",
       "1366         0.950        Snow Patrol\n",
       "223          0.939        The Killers\n",
       "310          0.925  Alanis Morissette\n",
       "527          0.923              Oasis\n",
       "165          0.913      Stereophonics"
      ]
     },
     "metadata": {},
     "output_type": "display_data"
    }
   ],
   "source": [
    "artist_neighbors(softmax_model, \"Coldplay\", DOT)\n",
    "artist_neighbors(softmax_model, \"Coldplay\", COSINE)"
   ]
  },
  {
   "cell_type": "markdown",
   "id": "7285f6bb",
   "metadata": {},
   "source": [
    "## Conclusion\n",
    "\n",
    "These recommendations are highly relevant. Although the loss is hihger,in my opinion the recommendations are superior to the recommendations we were receiving using the previous matrix factorization moodels. We have expanded on our previous work by building a softmax model that is capable of making relevant high quality recommendations."
   ]
  }
 ],
 "metadata": {
  "accelerator": "GPU",
  "colab": {
   "collapsed_sections": [],
   "name": "following_colab_(1)_(1) (2).ipynb",
   "provenance": []
  },
  "kernelspec": {
   "display_name": "Python 3 (ipykernel)",
   "language": "python",
   "name": "python3"
  },
  "language_info": {
   "codemirror_mode": {
    "name": "ipython",
    "version": 3
   },
   "file_extension": ".py",
   "mimetype": "text/x-python",
   "name": "python",
   "nbconvert_exporter": "python",
   "pygments_lexer": "ipython3",
   "version": "3.8.12"
  }
 },
 "nbformat": 4,
 "nbformat_minor": 5
}
